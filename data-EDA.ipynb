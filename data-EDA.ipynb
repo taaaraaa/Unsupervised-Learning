{
 "cells": [
  {
   "cell_type": "code",
   "execution_count": 75,
   "id": "17f23fdd",
   "metadata": {},
   "outputs": [],
   "source": [
    "import pandas as pd\n",
    "import numpy as np"
   ]
  },
  {
   "cell_type": "code",
   "execution_count": 90,
   "id": "60c662fb",
   "metadata": {
    "scrolled": false
   },
   "outputs": [],
   "source": [
    "accounts=pd.read_csv('data/twm_accounts.csv',sep=';')"
   ]
  },
  {
   "cell_type": "code",
   "execution_count": 91,
   "id": "8f35e293",
   "metadata": {
    "scrolled": false
   },
   "outputs": [],
   "source": [
    "checking_acct=pd.read_csv('data/twm_checking_acct.csv',sep=';')"
   ]
  },
  {
   "cell_type": "code",
   "execution_count": 94,
   "id": "30e0532c",
   "metadata": {},
   "outputs": [],
   "source": [
    "credit_acct=pd.read_csv('data/twm_credit_acct.csv',sep=';')"
   ]
  },
  {
   "cell_type": "code",
   "execution_count": 98,
   "id": "edef67b3",
   "metadata": {},
   "outputs": [],
   "source": [
    "savings_acct=pd.read_csv('data/twm_savings_acct.csv',sep=';')"
   ]
  },
  {
   "cell_type": "markdown",
   "id": "18d80151",
   "metadata": {},
   "source": [
    "-----------------------"
   ]
  },
  {
   "cell_type": "code",
   "execution_count": 96,
   "id": "53bbe792",
   "metadata": {},
   "outputs": [],
   "source": [
    "transactions=pd.read_csv('data/twm_transactions.csv',sep=';')"
   ]
  },
  {
   "cell_type": "code",
   "execution_count": 92,
   "id": "6792248c",
   "metadata": {
    "scrolled": false
   },
   "outputs": [],
   "source": [
    "checking_tran=pd.read_csv('data/twm_checking_tran.csv',sep=';')"
   ]
  },
  {
   "cell_type": "code",
   "execution_count": 93,
   "id": "388c223a",
   "metadata": {},
   "outputs": [],
   "source": [
    "credit_tran=pd.read_csv('data/twm_credit_tran.csv',sep=';')"
   ]
  },
  {
   "cell_type": "code",
   "execution_count": 99,
   "id": "e8986057",
   "metadata": {},
   "outputs": [],
   "source": [
    "savings_tran=pd.read_csv('data/twm_savings_tran.csv',sep=';')"
   ]
  },
  {
   "cell_type": "markdown",
   "id": "cc7e789d",
   "metadata": {},
   "source": [
    "__________________________________"
   ]
  },
  {
   "cell_type": "code",
   "execution_count": 100,
   "id": "650b091b",
   "metadata": {},
   "outputs": [],
   "source": [
    "customer=pd.read_csv('data/twm_customer.csv',sep=';')"
   ]
  },
  {
   "cell_type": "markdown",
   "id": "617b96b0",
   "metadata": {},
   "source": [
    "___________________________"
   ]
  }
 ],
 "metadata": {
  "kernelspec": {
   "display_name": "Python 3 (ipykernel)",
   "language": "python",
   "name": "python3"
  },
  "language_info": {
   "codemirror_mode": {
    "name": "ipython",
    "version": 3
   },
   "file_extension": ".py",
   "mimetype": "text/x-python",
   "name": "python",
   "nbconvert_exporter": "python",
   "pygments_lexer": "ipython3",
   "version": "3.9.13"
  }
 },
 "nbformat": 4,
 "nbformat_minor": 5
}
