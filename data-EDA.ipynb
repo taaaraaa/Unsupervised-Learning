{
 "cells": [
  {
   "cell_type": "code",
   "execution_count": 1,
   "id": "f6a29052",
   "metadata": {},
   "outputs": [],
   "source": [
    "import pandas as pd\n",
    "import numpy as np"
   ]
  },
  {
   "cell_type": "code",
   "execution_count": 5,
   "id": "daf506b2",
   "metadata": {},
   "outputs": [
    {
     "data": {
      "text/html": [
       "<div>\n",
       "<style scoped>\n",
       "    .dataframe tbody tr th:only-of-type {\n",
       "        vertical-align: middle;\n",
       "    }\n",
       "\n",
       "    .dataframe tbody tr th {\n",
       "        vertical-align: top;\n",
       "    }\n",
       "\n",
       "    .dataframe thead th {\n",
       "        text-align: right;\n",
       "    }\n",
       "</style>\n",
       "<table border=\"1\" class=\"dataframe\">\n",
       "  <thead>\n",
       "    <tr style=\"text-align: right;\">\n",
       "      <th></th>\n",
       "      <th>acct_nbr;cust_id;acct_type;account_active;acct_start_date;acct_end_date;starting_balance;ending_balance</th>\n",
       "    </tr>\n",
       "  </thead>\n",
       "  <tbody>\n",
       "    <tr>\n",
       "      <th>0</th>\n",
       "      <td>13628063;1362806;SV  ;Y ;10.12.1995;NULL;1430....</td>\n",
       "    </tr>\n",
       "    <tr>\n",
       "      <th>1</th>\n",
       "      <td>4561143213627090;1362709;CC  ;Y ;15.3.1993;NUL...</td>\n",
       "    </tr>\n",
       "    <tr>\n",
       "      <th>2</th>\n",
       "      <td>4561143213628360;1362836;CC  ;Y ;18.3.1992;NUL...</td>\n",
       "    </tr>\n",
       "    <tr>\n",
       "      <th>3</th>\n",
       "      <td>13633112;1363311;CK  ;Y ;6.7.1995;NULL;11017.1...</td>\n",
       "    </tr>\n",
       "    <tr>\n",
       "      <th>4</th>\n",
       "      <td>4561143213633610;1363361;CC  ;Y ;17.6.1994;NUL...</td>\n",
       "    </tr>\n",
       "  </tbody>\n",
       "</table>\n",
       "</div>"
      ],
      "text/plain": [
       "  acct_nbr;cust_id;acct_type;account_active;acct_start_date;acct_end_date;starting_balance;ending_balance\n",
       "0  13628063;1362806;SV  ;Y ;10.12.1995;NULL;1430....                                                     \n",
       "1  4561143213627090;1362709;CC  ;Y ;15.3.1993;NUL...                                                     \n",
       "2  4561143213628360;1362836;CC  ;Y ;18.3.1992;NUL...                                                     \n",
       "3  13633112;1363311;CK  ;Y ;6.7.1995;NULL;11017.1...                                                     \n",
       "4  4561143213633610;1363361;CC  ;Y ;17.6.1994;NUL...                                                     "
      ]
     },
     "execution_count": 5,
     "metadata": {},
     "output_type": "execute_result"
    }
   ],
   "source": [
    "accounts=pd.read_csv('data/twm_accounts.csv')\n",
    "accounts.head()"
   ]
  },
  {
   "cell_type": "code",
   "execution_count": 8,
   "id": "915fe6f8",
   "metadata": {},
   "outputs": [
    {
     "data": {
      "text/html": [
       "<div>\n",
       "<style scoped>\n",
       "    .dataframe tbody tr th:only-of-type {\n",
       "        vertical-align: middle;\n",
       "    }\n",
       "\n",
       "    .dataframe tbody tr th {\n",
       "        vertical-align: top;\n",
       "    }\n",
       "\n",
       "    .dataframe thead th {\n",
       "        text-align: right;\n",
       "    }\n",
       "</style>\n",
       "<table border=\"1\" class=\"dataframe\">\n",
       "  <thead>\n",
       "    <tr style=\"text-align: right;\">\n",
       "      <th></th>\n",
       "      <th>cust_id;income;age;years_with_bank;nbr_children;gender;marital_status;name_prefix;first_name;last_name;street_nbr;street_name;postal_code;city_name;state_code</th>\n",
       "    </tr>\n",
       "  </thead>\n",
       "  <tbody>\n",
       "    <tr>\n",
       "      <th>0</th>\n",
       "      <td>1362691;26150;46;5;1;M ;2;        ;Donald     ...</td>\n",
       "    </tr>\n",
       "    <tr>\n",
       "      <th>1</th>\n",
       "      <td>1362487;6605;71;1;0;M ;2;        ;ChingDyi    ...</td>\n",
       "    </tr>\n",
       "    <tr>\n",
       "      <th>2</th>\n",
       "      <td>1363160;18548;38;8;0;F ;1;        ;Rosa       ...</td>\n",
       "    </tr>\n",
       "    <tr>\n",
       "      <th>3</th>\n",
       "      <td>1362752;47668;54;3;0;F ;1;        ;Lisa       ...</td>\n",
       "    </tr>\n",
       "    <tr>\n",
       "      <th>4</th>\n",
       "      <td>1362548;44554;59;9;2;F ;4;        ;Barbara    ...</td>\n",
       "    </tr>\n",
       "  </tbody>\n",
       "</table>\n",
       "</div>"
      ],
      "text/plain": [
       "  cust_id;income;age;years_with_bank;nbr_children;gender;marital_status;name_prefix;first_name;last_name;street_nbr;street_name;postal_code;city_name;state_code\n",
       "0  1362691;26150;46;5;1;M ;2;        ;Donald     ...                                                                                                            \n",
       "1  1362487;6605;71;1;0;M ;2;        ;ChingDyi    ...                                                                                                            \n",
       "2  1363160;18548;38;8;0;F ;1;        ;Rosa       ...                                                                                                            \n",
       "3  1362752;47668;54;3;0;F ;1;        ;Lisa       ...                                                                                                            \n",
       "4  1362548;44554;59;9;2;F ;4;        ;Barbara    ...                                                                                                            "
      ]
     },
     "execution_count": 8,
     "metadata": {},
     "output_type": "execute_result"
    }
   ],
   "source": [
    "customer=pd.read_csv('data/twm_customer.csv')\n",
    "customer.head()"
   ]
  },
  {
   "cell_type": "code",
   "execution_count": null,
   "id": "6f986bd5",
   "metadata": {},
   "outputs": [],
   "source": []
  }
 ],
 "metadata": {
  "kernelspec": {
   "display_name": "Python 3 (ipykernel)",
   "language": "python",
   "name": "python3"
  },
  "language_info": {
   "codemirror_mode": {
    "name": "ipython",
    "version": 3
   },
   "file_extension": ".py",
   "mimetype": "text/x-python",
   "name": "python",
   "nbconvert_exporter": "python",
   "pygments_lexer": "ipython3",
   "version": "3.9.13"
  }
 },
 "nbformat": 4,
 "nbformat_minor": 5
}
