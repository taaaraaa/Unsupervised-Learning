{
 "cells": [
  {
   "cell_type": "code",
   "execution_count": 2,
   "id": "0c83f75a",
   "metadata": {},
   "outputs": [],
   "source": [
    "import pandas as pd\n",
    "import numpy as np"
   ]
  },
  {
   "cell_type": "code",
   "execution_count": 3,
   "id": "fc54a53e",
   "metadata": {},
   "outputs": [],
   "source": [
    "accounts=pd.read_csv('data/twm_accounts.csv',sep=';')"
   ]
  },
  {
   "cell_type": "code",
   "execution_count": 4,
   "id": "a5905e3f",
   "metadata": {},
   "outputs": [],
   "source": [
    "checking_acct=pd.read_csv('data/twm_checking_acct.csv',sep=';')"
   ]
  },
  {
   "cell_type": "code",
   "execution_count": 5,
   "id": "42ac8ac8",
   "metadata": {},
   "outputs": [],
   "source": [
    "credit_acct=pd.read_csv('data/twm_credit_acct.csv',sep=';')"
   ]
  },
  {
   "cell_type": "code",
   "execution_count": 6,
   "id": "90888cef",
   "metadata": {},
   "outputs": [],
   "source": [
    "savings_acct=pd.read_csv('data/twm_savings_acct.csv',sep=';')"
   ]
  },
  {
   "cell_type": "markdown",
   "id": "7b3ff617",
   "metadata": {},
   "source": [
    "_______________"
   ]
  },
  {
   "cell_type": "markdown",
   "id": "613d8674",
   "metadata": {},
   "source": [
    "## Cleaning and transforming transactions Table"
   ]
  },
  {
   "cell_type": "code",
   "execution_count": 22,
   "id": "7f4057d6",
   "metadata": {},
   "outputs": [],
   "source": [
    "transactions_result = pd.read_csv('data/transactions_result.csv')"
   ]
  },
  {
   "cell_type": "code",
   "execution_count": 9,
   "id": "7a562cc1",
   "metadata": {
    "scrolled": true
   },
   "outputs": [
    {
     "name": "stdout",
     "output_type": "stream",
     "text": [
      "<class 'pandas.core.frame.DataFrame'>\n",
      "RangeIndex: 1409 entries, 0 to 1408\n",
      "Data columns (total 8 columns):\n",
      " #   Column            Non-Null Count  Dtype  \n",
      "---  ------            --------------  -----  \n",
      " 0   acct_nbr          1409 non-null   int64  \n",
      " 1   cust_id           1409 non-null   int64  \n",
      " 2   acct_type         1409 non-null   object \n",
      " 3   account_active    1409 non-null   object \n",
      " 4   acct_start_date   1409 non-null   object \n",
      " 5   acct_end_date     143 non-null    object \n",
      " 6   starting_balance  1409 non-null   float64\n",
      " 7   ending_balance    1409 non-null   float64\n",
      "dtypes: float64(2), int64(2), object(4)\n",
      "memory usage: 88.2+ KB\n"
     ]
    }
   ],
   "source": [
    "accounts.info()"
   ]
  },
  {
   "cell_type": "markdown",
   "id": "2cbb2e71",
   "metadata": {},
   "source": [
    "## Identifying outliers in Accounts table"
   ]
  },
  {
   "cell_type": "code",
   "execution_count": 36,
   "id": "0fd6861e",
   "metadata": {},
   "outputs": [
    {
     "data": {
      "text/plain": [
       "26"
      ]
     },
     "execution_count": 36,
     "metadata": {},
     "output_type": "execute_result"
    }
   ],
   "source": [
    "from scipy import stats\n",
    "\n",
    "#Finding Z Score on Column\n",
    "stats.zscore(accounts['ending_balance'])\n",
    "\n",
    "#view the outliers\n",
    "len(accounts['ending_balance'][(np.abs(stats.zscore(accounts['ending_balance'])) > 3)])"
   ]
  },
  {
   "cell_type": "markdown",
   "id": "ba3513c3",
   "metadata": {},
   "source": [
    "## Deleting outliers"
   ]
  },
  {
   "cell_type": "code",
   "execution_count": 30,
   "id": "b3530637",
   "metadata": {
    "scrolled": true
   },
   "outputs": [
    {
     "data": {
      "text/html": [
       "<div>\n",
       "<style scoped>\n",
       "    .dataframe tbody tr th:only-of-type {\n",
       "        vertical-align: middle;\n",
       "    }\n",
       "\n",
       "    .dataframe tbody tr th {\n",
       "        vertical-align: top;\n",
       "    }\n",
       "\n",
       "    .dataframe thead th {\n",
       "        text-align: right;\n",
       "    }\n",
       "</style>\n",
       "<table border=\"1\" class=\"dataframe\">\n",
       "  <thead>\n",
       "    <tr style=\"text-align: right;\">\n",
       "      <th></th>\n",
       "      <th>acct_nbr</th>\n",
       "      <th>cust_id</th>\n",
       "      <th>acct_type</th>\n",
       "      <th>account_active</th>\n",
       "      <th>acct_start_date</th>\n",
       "      <th>acct_end_date</th>\n",
       "      <th>starting_balance</th>\n",
       "      <th>ending_balance</th>\n",
       "    </tr>\n",
       "  </thead>\n",
       "  <tbody>\n",
       "    <tr>\n",
       "      <th>0</th>\n",
       "      <td>13628063</td>\n",
       "      <td>1362806</td>\n",
       "      <td>SV</td>\n",
       "      <td>Y</td>\n",
       "      <td>10.12.1995</td>\n",
       "      <td>NaN</td>\n",
       "      <td>1430.22</td>\n",
       "      <td>284.58</td>\n",
       "    </tr>\n",
       "    <tr>\n",
       "      <th>1</th>\n",
       "      <td>4561143213627090</td>\n",
       "      <td>1362709</td>\n",
       "      <td>CC</td>\n",
       "      <td>Y</td>\n",
       "      <td>15.3.1993</td>\n",
       "      <td>NaN</td>\n",
       "      <td>266.34</td>\n",
       "      <td>496.15</td>\n",
       "    </tr>\n",
       "    <tr>\n",
       "      <th>2</th>\n",
       "      <td>4561143213628360</td>\n",
       "      <td>1362836</td>\n",
       "      <td>CC</td>\n",
       "      <td>Y</td>\n",
       "      <td>18.3.1992</td>\n",
       "      <td>NaN</td>\n",
       "      <td>55.90</td>\n",
       "      <td>1000.00</td>\n",
       "    </tr>\n",
       "    <tr>\n",
       "      <th>3</th>\n",
       "      <td>13633112</td>\n",
       "      <td>1363311</td>\n",
       "      <td>CK</td>\n",
       "      <td>Y</td>\n",
       "      <td>6.7.1995</td>\n",
       "      <td>NaN</td>\n",
       "      <td>11017.13</td>\n",
       "      <td>968.46</td>\n",
       "    </tr>\n",
       "    <tr>\n",
       "      <th>4</th>\n",
       "      <td>4561143213633610</td>\n",
       "      <td>1363361</td>\n",
       "      <td>CC</td>\n",
       "      <td>Y</td>\n",
       "      <td>17.6.1994</td>\n",
       "      <td>NaN</td>\n",
       "      <td>849.37</td>\n",
       "      <td>462.28</td>\n",
       "    </tr>\n",
       "    <tr>\n",
       "      <th>...</th>\n",
       "      <td>...</td>\n",
       "      <td>...</td>\n",
       "      <td>...</td>\n",
       "      <td>...</td>\n",
       "      <td>...</td>\n",
       "      <td>...</td>\n",
       "      <td>...</td>\n",
       "      <td>...</td>\n",
       "    </tr>\n",
       "    <tr>\n",
       "      <th>1404</th>\n",
       "      <td>4561143213625560</td>\n",
       "      <td>1362556</td>\n",
       "      <td>CC</td>\n",
       "      <td>N</td>\n",
       "      <td>20.1.1992</td>\n",
       "      <td>19.8.1995</td>\n",
       "      <td>1433.94</td>\n",
       "      <td>20.00</td>\n",
       "    </tr>\n",
       "    <tr>\n",
       "      <th>1405</th>\n",
       "      <td>4561143213626240</td>\n",
       "      <td>1362624</td>\n",
       "      <td>CC</td>\n",
       "      <td>Y</td>\n",
       "      <td>29.11.1990</td>\n",
       "      <td>NaN</td>\n",
       "      <td>632.75</td>\n",
       "      <td>1400.00</td>\n",
       "    </tr>\n",
       "    <tr>\n",
       "      <th>1406</th>\n",
       "      <td>4561143213628750</td>\n",
       "      <td>1362875</td>\n",
       "      <td>CC</td>\n",
       "      <td>Y</td>\n",
       "      <td>24.2.1989</td>\n",
       "      <td>NaN</td>\n",
       "      <td>2810.91</td>\n",
       "      <td>3000.00</td>\n",
       "    </tr>\n",
       "    <tr>\n",
       "      <th>1407</th>\n",
       "      <td>13626543</td>\n",
       "      <td>1362654</td>\n",
       "      <td>SV</td>\n",
       "      <td>Y</td>\n",
       "      <td>17.10.1992</td>\n",
       "      <td>NaN</td>\n",
       "      <td>784.53</td>\n",
       "      <td>622.46</td>\n",
       "    </tr>\n",
       "    <tr>\n",
       "      <th>1408</th>\n",
       "      <td>13627032</td>\n",
       "      <td>1362703</td>\n",
       "      <td>CK</td>\n",
       "      <td>Y</td>\n",
       "      <td>18.9.1994</td>\n",
       "      <td>NaN</td>\n",
       "      <td>3649.18</td>\n",
       "      <td>107.33</td>\n",
       "    </tr>\n",
       "  </tbody>\n",
       "</table>\n",
       "<p>1383 rows × 8 columns</p>\n",
       "</div>"
      ],
      "text/plain": [
       "              acct_nbr  cust_id acct_type account_active acct_start_date  \\\n",
       "0             13628063  1362806      SV               Y       10.12.1995   \n",
       "1     4561143213627090  1362709      CC               Y        15.3.1993   \n",
       "2     4561143213628360  1362836      CC               Y        18.3.1992   \n",
       "3             13633112  1363311      CK               Y         6.7.1995   \n",
       "4     4561143213633610  1363361      CC               Y        17.6.1994   \n",
       "...                ...      ...       ...            ...             ...   \n",
       "1404  4561143213625560  1362556      CC               N        20.1.1992   \n",
       "1405  4561143213626240  1362624      CC               Y       29.11.1990   \n",
       "1406  4561143213628750  1362875      CC               Y        24.2.1989   \n",
       "1407          13626543  1362654      SV               Y       17.10.1992   \n",
       "1408          13627032  1362703      CK               Y        18.9.1994   \n",
       "\n",
       "     acct_end_date  starting_balance  ending_balance  \n",
       "0              NaN           1430.22          284.58  \n",
       "1              NaN            266.34          496.15  \n",
       "2              NaN             55.90         1000.00  \n",
       "3              NaN          11017.13          968.46  \n",
       "4              NaN            849.37          462.28  \n",
       "...            ...               ...             ...  \n",
       "1404     19.8.1995           1433.94           20.00  \n",
       "1405           NaN            632.75         1400.00  \n",
       "1406           NaN           2810.91         3000.00  \n",
       "1407           NaN            784.53          622.46  \n",
       "1408           NaN           3649.18          107.33  \n",
       "\n",
       "[1383 rows x 8 columns]"
      ]
     },
     "execution_count": 30,
     "metadata": {},
     "output_type": "execute_result"
    }
   ],
   "source": [
    "accounts_clean=accounts[(np.abs(stats.zscore(accounts['ending_balance'])) <= 3)]\n",
    "accounts_clean"
   ]
  },
  {
   "cell_type": "markdown",
   "id": "2d2d1e91",
   "metadata": {},
   "source": [
    "----------------------------------"
   ]
  },
  {
   "cell_type": "markdown",
   "id": "4cf20357",
   "metadata": {},
   "source": [
    "## Deleting unwanted columns"
   ]
  },
  {
   "cell_type": "code",
   "execution_count": 34,
   "id": "ca05fa8b",
   "metadata": {
    "scrolled": true
   },
   "outputs": [
    {
     "data": {
      "text/html": [
       "<div>\n",
       "<style scoped>\n",
       "    .dataframe tbody tr th:only-of-type {\n",
       "        vertical-align: middle;\n",
       "    }\n",
       "\n",
       "    .dataframe tbody tr th {\n",
       "        vertical-align: top;\n",
       "    }\n",
       "\n",
       "    .dataframe thead th {\n",
       "        text-align: right;\n",
       "    }\n",
       "</style>\n",
       "<table border=\"1\" class=\"dataframe\">\n",
       "  <thead>\n",
       "    <tr style=\"text-align: right;\">\n",
       "      <th></th>\n",
       "      <th>acct_nbr</th>\n",
       "      <th>cust_id</th>\n",
       "      <th>acct_type</th>\n",
       "      <th>account_active</th>\n",
       "      <th>ending_balance</th>\n",
       "    </tr>\n",
       "  </thead>\n",
       "  <tbody>\n",
       "    <tr>\n",
       "      <th>0</th>\n",
       "      <td>13628063</td>\n",
       "      <td>1362806</td>\n",
       "      <td>SV</td>\n",
       "      <td>Y</td>\n",
       "      <td>284.58</td>\n",
       "    </tr>\n",
       "    <tr>\n",
       "      <th>1</th>\n",
       "      <td>4561143213627090</td>\n",
       "      <td>1362709</td>\n",
       "      <td>CC</td>\n",
       "      <td>Y</td>\n",
       "      <td>496.15</td>\n",
       "    </tr>\n",
       "    <tr>\n",
       "      <th>2</th>\n",
       "      <td>4561143213628360</td>\n",
       "      <td>1362836</td>\n",
       "      <td>CC</td>\n",
       "      <td>Y</td>\n",
       "      <td>1000.00</td>\n",
       "    </tr>\n",
       "    <tr>\n",
       "      <th>3</th>\n",
       "      <td>13633112</td>\n",
       "      <td>1363311</td>\n",
       "      <td>CK</td>\n",
       "      <td>Y</td>\n",
       "      <td>968.46</td>\n",
       "    </tr>\n",
       "    <tr>\n",
       "      <th>4</th>\n",
       "      <td>4561143213633610</td>\n",
       "      <td>1363361</td>\n",
       "      <td>CC</td>\n",
       "      <td>Y</td>\n",
       "      <td>462.28</td>\n",
       "    </tr>\n",
       "    <tr>\n",
       "      <th>...</th>\n",
       "      <td>...</td>\n",
       "      <td>...</td>\n",
       "      <td>...</td>\n",
       "      <td>...</td>\n",
       "      <td>...</td>\n",
       "    </tr>\n",
       "    <tr>\n",
       "      <th>1404</th>\n",
       "      <td>4561143213625560</td>\n",
       "      <td>1362556</td>\n",
       "      <td>CC</td>\n",
       "      <td>N</td>\n",
       "      <td>20.00</td>\n",
       "    </tr>\n",
       "    <tr>\n",
       "      <th>1405</th>\n",
       "      <td>4561143213626240</td>\n",
       "      <td>1362624</td>\n",
       "      <td>CC</td>\n",
       "      <td>Y</td>\n",
       "      <td>1400.00</td>\n",
       "    </tr>\n",
       "    <tr>\n",
       "      <th>1406</th>\n",
       "      <td>4561143213628750</td>\n",
       "      <td>1362875</td>\n",
       "      <td>CC</td>\n",
       "      <td>Y</td>\n",
       "      <td>3000.00</td>\n",
       "    </tr>\n",
       "    <tr>\n",
       "      <th>1407</th>\n",
       "      <td>13626543</td>\n",
       "      <td>1362654</td>\n",
       "      <td>SV</td>\n",
       "      <td>Y</td>\n",
       "      <td>622.46</td>\n",
       "    </tr>\n",
       "    <tr>\n",
       "      <th>1408</th>\n",
       "      <td>13627032</td>\n",
       "      <td>1362703</td>\n",
       "      <td>CK</td>\n",
       "      <td>Y</td>\n",
       "      <td>107.33</td>\n",
       "    </tr>\n",
       "  </tbody>\n",
       "</table>\n",
       "<p>1383 rows × 5 columns</p>\n",
       "</div>"
      ],
      "text/plain": [
       "              acct_nbr  cust_id acct_type account_active  ending_balance\n",
       "0             13628063  1362806      SV               Y           284.58\n",
       "1     4561143213627090  1362709      CC               Y           496.15\n",
       "2     4561143213628360  1362836      CC               Y          1000.00\n",
       "3             13633112  1363311      CK               Y           968.46\n",
       "4     4561143213633610  1363361      CC               Y           462.28\n",
       "...                ...      ...       ...            ...             ...\n",
       "1404  4561143213625560  1362556      CC               N            20.00\n",
       "1405  4561143213626240  1362624      CC               Y          1400.00\n",
       "1406  4561143213628750  1362875      CC               Y          3000.00\n",
       "1407          13626543  1362654      SV               Y           622.46\n",
       "1408          13627032  1362703      CK               Y           107.33\n",
       "\n",
       "[1383 rows x 5 columns]"
      ]
     },
     "execution_count": 34,
     "metadata": {},
     "output_type": "execute_result"
    }
   ],
   "source": [
    "accounts_result=accounts_clean[['acct_nbr','cust_id','acct_type','account_active','ending_balance']]\n",
    "accounts_result"
   ]
  },
  {
   "cell_type": "code",
   "execution_count": 35,
   "id": "b950511d",
   "metadata": {},
   "outputs": [],
   "source": [
    "# exporting the cleaned data as a CSV file \n",
    "accounts_result.to_csv('data/accounts_result.csv',index=False)"
   ]
  },
  {
   "cell_type": "markdown",
   "id": "59e4ec93",
   "metadata": {},
   "source": [
    "-----------------------------"
   ]
  },
  {
   "cell_type": "markdown",
   "id": "34694ee6",
   "metadata": {},
   "source": [
    "## Cleaning checking_acct Table"
   ]
  },
  {
   "cell_type": "code",
   "execution_count": 33,
   "id": "35cac46d",
   "metadata": {},
   "outputs": [],
   "source": [
    "checking_acct=pd.read_csv('data/twm_checking_acct.csv',sep=';')"
   ]
  },
  {
   "cell_type": "code",
   "execution_count": null,
   "id": "5e370348",
   "metadata": {},
   "outputs": [],
   "source": [
    "checking_tran.describe()"
   ]
  },
  {
   "cell_type": "code",
   "execution_count": null,
   "id": "84fa39b0",
   "metadata": {},
   "outputs": [],
   "source": [
    "from scipy import stats\n",
    "\n",
    "#Finding Z Score on Column\n",
    "stats.zscore(checking_tran['tran_amt'])\n",
    "\n",
    "#view the outliers\n",
    "checking_tran['tran_amt'][(np.abs(stats.zscore(checking_tran['tran_amt'])) > 3)]"
   ]
  },
  {
   "cell_type": "markdown",
   "id": "26bcc48d",
   "metadata": {},
   "source": [
    "## Deleting outliers"
   ]
  },
  {
   "cell_type": "code",
   "execution_count": 25,
   "id": "a6ddd7a9",
   "metadata": {
    "scrolled": true
   },
   "outputs": [
    {
     "data": {
      "text/html": [
       "<div>\n",
       "<style scoped>\n",
       "    .dataframe tbody tr th:only-of-type {\n",
       "        vertical-align: middle;\n",
       "    }\n",
       "\n",
       "    .dataframe tbody tr th {\n",
       "        vertical-align: top;\n",
       "    }\n",
       "\n",
       "    .dataframe thead th {\n",
       "        text-align: right;\n",
       "    }\n",
       "</style>\n",
       "<table border=\"1\" class=\"dataframe\">\n",
       "  <thead>\n",
       "    <tr style=\"text-align: right;\">\n",
       "      <th></th>\n",
       "      <th>cust_id</th>\n",
       "      <th>tran_id</th>\n",
       "      <th>tran_amt</th>\n",
       "      <th>principal_amt</th>\n",
       "      <th>interest_amt</th>\n",
       "      <th>new_balance</th>\n",
       "      <th>tran_date</th>\n",
       "      <th>tran_time</th>\n",
       "      <th>channel</th>\n",
       "      <th>tran_code</th>\n",
       "    </tr>\n",
       "  </thead>\n",
       "  <tbody>\n",
       "    <tr>\n",
       "      <th>0</th>\n",
       "      <td>1363481</td>\n",
       "      <td>26</td>\n",
       "      <td>-0.15</td>\n",
       "      <td>-0.15</td>\n",
       "      <td>0.0</td>\n",
       "      <td>58.99</td>\n",
       "      <td>29.1.1995</td>\n",
       "      <td></td>\n",
       "      <td></td>\n",
       "      <td>FK</td>\n",
       "    </tr>\n",
       "    <tr>\n",
       "      <th>1</th>\n",
       "      <td>1362784</td>\n",
       "      <td>90</td>\n",
       "      <td>-200.00</td>\n",
       "      <td>-200.00</td>\n",
       "      <td>0.0</td>\n",
       "      <td>1380.69</td>\n",
       "      <td>2.7.1995</td>\n",
       "      <td>53313</td>\n",
       "      <td>A</td>\n",
       "      <td>WD</td>\n",
       "    </tr>\n",
       "    <tr>\n",
       "      <th>2</th>\n",
       "      <td>1363088</td>\n",
       "      <td>46</td>\n",
       "      <td>0.00</td>\n",
       "      <td>0.00</td>\n",
       "      <td>0.0</td>\n",
       "      <td>128.35</td>\n",
       "      <td>26.3.1995</td>\n",
       "      <td>834</td>\n",
       "      <td>A</td>\n",
       "      <td>IQ</td>\n",
       "    </tr>\n",
       "    <tr>\n",
       "      <th>3</th>\n",
       "      <td>1363306</td>\n",
       "      <td>32</td>\n",
       "      <td>-40.32</td>\n",
       "      <td>-40.32</td>\n",
       "      <td>0.0</td>\n",
       "      <td>433.06</td>\n",
       "      <td>29.1.1995</td>\n",
       "      <td></td>\n",
       "      <td>P</td>\n",
       "      <td>WD</td>\n",
       "    </tr>\n",
       "    <tr>\n",
       "      <th>4</th>\n",
       "      <td>1363251</td>\n",
       "      <td>11</td>\n",
       "      <td>-87.88</td>\n",
       "      <td>-87.88</td>\n",
       "      <td>0.0</td>\n",
       "      <td>1919.55</td>\n",
       "      <td>8.2.1995</td>\n",
       "      <td></td>\n",
       "      <td>P</td>\n",
       "      <td>WD</td>\n",
       "    </tr>\n",
       "  </tbody>\n",
       "</table>\n",
       "</div>"
      ],
      "text/plain": [
       "   cust_id  tran_id  tran_amt  principal_amt  interest_amt  new_balance  \\\n",
       "0  1363481       26     -0.15          -0.15           0.0        58.99   \n",
       "1  1362784       90   -200.00        -200.00           0.0      1380.69   \n",
       "2  1363088       46      0.00           0.00           0.0       128.35   \n",
       "3  1363306       32    -40.32         -40.32           0.0       433.06   \n",
       "4  1363251       11    -87.88         -87.88           0.0      1919.55   \n",
       "\n",
       "   tran_date     tran_time channel tran_code  \n",
       "0  29.1.1995                            FK    \n",
       "1   2.7.1995         53313      A       WD    \n",
       "2  26.3.1995           834      A       IQ    \n",
       "3  29.1.1995                    P       WD    \n",
       "4   8.2.1995                    P       WD    "
      ]
     },
     "execution_count": 25,
     "metadata": {},
     "output_type": "execute_result"
    }
   ],
   "source": [
    "checking_tran_clean=checking_tran[(np.abs(stats.zscore(checking_tran['tran_amt'])) <= 3)]\n",
    "checking_tran_clean.head()"
   ]
  },
  {
   "cell_type": "code",
   "execution_count": 26,
   "id": "7443beda",
   "metadata": {},
   "outputs": [],
   "source": [
    "checking_tran_clean=checking_tran_clean[['cust_id','tran_amt']]"
   ]
  },
  {
   "cell_type": "code",
   "execution_count": 27,
   "id": "46d6c1ea",
   "metadata": {},
   "outputs": [],
   "source": [
    "checking_tran_clean['tran_amt']=checking_tran_clean['tran_amt'].abs()"
   ]
  },
  {
   "cell_type": "code",
   "execution_count": 28,
   "id": "2b6199e0",
   "metadata": {
    "scrolled": true
   },
   "outputs": [
    {
     "data": {
      "text/html": [
       "<div>\n",
       "<style scoped>\n",
       "    .dataframe tbody tr th:only-of-type {\n",
       "        vertical-align: middle;\n",
       "    }\n",
       "\n",
       "    .dataframe tbody tr th {\n",
       "        vertical-align: top;\n",
       "    }\n",
       "\n",
       "    .dataframe thead th {\n",
       "        text-align: right;\n",
       "    }\n",
       "</style>\n",
       "<table border=\"1\" class=\"dataframe\">\n",
       "  <thead>\n",
       "    <tr style=\"text-align: right;\">\n",
       "      <th></th>\n",
       "      <th>checking_tran_count</th>\n",
       "    </tr>\n",
       "    <tr>\n",
       "      <th>cust_id</th>\n",
       "      <th></th>\n",
       "    </tr>\n",
       "  </thead>\n",
       "  <tbody>\n",
       "    <tr>\n",
       "      <th>1362480</th>\n",
       "      <td>93</td>\n",
       "    </tr>\n",
       "    <tr>\n",
       "      <th>1362484</th>\n",
       "      <td>98</td>\n",
       "    </tr>\n",
       "  </tbody>\n",
       "</table>\n",
       "</div>"
      ],
      "text/plain": [
       "         checking_tran_count\n",
       "cust_id                     \n",
       "1362480                   93\n",
       "1362484                   98"
      ]
     },
     "execution_count": 28,
     "metadata": {},
     "output_type": "execute_result"
    }
   ],
   "source": [
    "checking_tran_clean_df1 = checking_tran_clean.groupby(['cust_id']).count()\n",
    "checking_tran_clean_df1= checking_tran_clean_df1.rename(columns={'tran_amt': 'checking_tran_count'})\n",
    "checking_tran_clean_df1.head(2)"
   ]
  },
  {
   "cell_type": "code",
   "execution_count": 29,
   "id": "82a161ca",
   "metadata": {
    "scrolled": true
   },
   "outputs": [
    {
     "data": {
      "text/html": [
       "<div>\n",
       "<style scoped>\n",
       "    .dataframe tbody tr th:only-of-type {\n",
       "        vertical-align: middle;\n",
       "    }\n",
       "\n",
       "    .dataframe tbody tr th {\n",
       "        vertical-align: top;\n",
       "    }\n",
       "\n",
       "    .dataframe thead th {\n",
       "        text-align: right;\n",
       "    }\n",
       "</style>\n",
       "<table border=\"1\" class=\"dataframe\">\n",
       "  <thead>\n",
       "    <tr style=\"text-align: right;\">\n",
       "      <th></th>\n",
       "      <th>checking_tran_avg</th>\n",
       "    </tr>\n",
       "    <tr>\n",
       "      <th>cust_id</th>\n",
       "      <th></th>\n",
       "    </tr>\n",
       "  </thead>\n",
       "  <tbody>\n",
       "    <tr>\n",
       "      <th>1362480</th>\n",
       "      <td>76.888710</td>\n",
       "    </tr>\n",
       "    <tr>\n",
       "      <th>1362484</th>\n",
       "      <td>71.330918</td>\n",
       "    </tr>\n",
       "  </tbody>\n",
       "</table>\n",
       "</div>"
      ],
      "text/plain": [
       "         checking_tran_avg\n",
       "cust_id                   \n",
       "1362480          76.888710\n",
       "1362484          71.330918"
      ]
     },
     "execution_count": 29,
     "metadata": {},
     "output_type": "execute_result"
    }
   ],
   "source": [
    "checking_tran_clean_df2 = checking_tran_clean.groupby(['cust_id']).mean()\n",
    "checking_tran_clean_df2 = checking_tran_clean_df2.rename(columns={'tran_amt': 'checking_tran_avg'})\n",
    "checking_tran_clean_df2.head(2)"
   ]
  },
  {
   "cell_type": "code",
   "execution_count": 30,
   "id": "65176cbf",
   "metadata": {
    "scrolled": true
   },
   "outputs": [
    {
     "data": {
      "text/html": [
       "<div>\n",
       "<style scoped>\n",
       "    .dataframe tbody tr th:only-of-type {\n",
       "        vertical-align: middle;\n",
       "    }\n",
       "\n",
       "    .dataframe tbody tr th {\n",
       "        vertical-align: top;\n",
       "    }\n",
       "\n",
       "    .dataframe thead th {\n",
       "        text-align: right;\n",
       "    }\n",
       "</style>\n",
       "<table border=\"1\" class=\"dataframe\">\n",
       "  <thead>\n",
       "    <tr style=\"text-align: right;\">\n",
       "      <th></th>\n",
       "      <th>cust_id</th>\n",
       "      <th>checking_tran_count</th>\n",
       "      <th>checking_tran_avg</th>\n",
       "    </tr>\n",
       "  </thead>\n",
       "  <tbody>\n",
       "    <tr>\n",
       "      <th>0</th>\n",
       "      <td>1362480</td>\n",
       "      <td>93</td>\n",
       "      <td>76.888710</td>\n",
       "    </tr>\n",
       "    <tr>\n",
       "      <th>1</th>\n",
       "      <td>1362484</td>\n",
       "      <td>98</td>\n",
       "      <td>71.330918</td>\n",
       "    </tr>\n",
       "    <tr>\n",
       "      <th>2</th>\n",
       "      <td>1362485</td>\n",
       "      <td>96</td>\n",
       "      <td>80.350625</td>\n",
       "    </tr>\n",
       "    <tr>\n",
       "      <th>3</th>\n",
       "      <td>1362486</td>\n",
       "      <td>25</td>\n",
       "      <td>43.256000</td>\n",
       "    </tr>\n",
       "    <tr>\n",
       "      <th>4</th>\n",
       "      <td>1362487</td>\n",
       "      <td>52</td>\n",
       "      <td>62.400577</td>\n",
       "    </tr>\n",
       "  </tbody>\n",
       "</table>\n",
       "</div>"
      ],
      "text/plain": [
       "   cust_id  checking_tran_count  checking_tran_avg\n",
       "0  1362480                   93          76.888710\n",
       "1  1362484                   98          71.330918\n",
       "2  1362485                   96          80.350625\n",
       "3  1362486                   25          43.256000\n",
       "4  1362487                   52          62.400577"
      ]
     },
     "execution_count": 30,
     "metadata": {},
     "output_type": "execute_result"
    }
   ],
   "source": [
    "result_checking_tran_clean = pd.concat([checking_tran_clean_df1, checking_tran_clean_df2], axis=1, join=\"inner\").reset_index()\n",
    "checking_result=result_checking_tran_clean\n",
    "checking_result.head()"
   ]
  },
  {
   "cell_type": "code",
   "execution_count": null,
   "id": "7c44d20b",
   "metadata": {},
   "outputs": [],
   "source": [
    "# exporting the cleaned data as a CSV file \n",
    "checking_result.to_csv('data/checking_result.csv',index=False)"
   ]
  },
  {
   "cell_type": "markdown",
   "id": "d884227a",
   "metadata": {},
   "source": [
    "## Cleaning credit_tran Table"
   ]
  },
  {
   "cell_type": "code",
   "execution_count": 21,
   "id": "d8f8e33b",
   "metadata": {
    "scrolled": true
   },
   "outputs": [
    {
     "name": "stdout",
     "output_type": "stream",
     "text": [
      "<class 'pandas.core.frame.DataFrame'>\n",
      "RangeIndex: 20167 entries, 0 to 20166\n",
      "Data columns (total 10 columns):\n",
      " #   Column         Non-Null Count  Dtype  \n",
      "---  ------         --------------  -----  \n",
      " 0   cust_id        20167 non-null  int64  \n",
      " 1   tran_id        20167 non-null  int64  \n",
      " 2   tran_amt       20167 non-null  float64\n",
      " 3   principal_amt  20167 non-null  float64\n",
      " 4   interest_amt   20167 non-null  float64\n",
      " 5   new_balance    20167 non-null  float64\n",
      " 6   tran_date      20167 non-null  object \n",
      " 7   tran_time      20167 non-null  object \n",
      " 8   channel        20167 non-null  object \n",
      " 9   tran_code      20167 non-null  object \n",
      "dtypes: float64(4), int64(2), object(4)\n",
      "memory usage: 1.5+ MB\n"
     ]
    }
   ],
   "source": [
    "credit_tran.info()"
   ]
  },
  {
   "cell_type": "code",
   "execution_count": 22,
   "id": "5bcd3ef1",
   "metadata": {
    "scrolled": true
   },
   "outputs": [
    {
     "data": {
      "text/html": [
       "<div>\n",
       "<style scoped>\n",
       "    .dataframe tbody tr th:only-of-type {\n",
       "        vertical-align: middle;\n",
       "    }\n",
       "\n",
       "    .dataframe tbody tr th {\n",
       "        vertical-align: top;\n",
       "    }\n",
       "\n",
       "    .dataframe thead th {\n",
       "        text-align: right;\n",
       "    }\n",
       "</style>\n",
       "<table border=\"1\" class=\"dataframe\">\n",
       "  <thead>\n",
       "    <tr style=\"text-align: right;\">\n",
       "      <th></th>\n",
       "      <th>cust_id</th>\n",
       "      <th>tran_id</th>\n",
       "      <th>tran_amt</th>\n",
       "      <th>principal_amt</th>\n",
       "      <th>interest_amt</th>\n",
       "      <th>new_balance</th>\n",
       "    </tr>\n",
       "  </thead>\n",
       "  <tbody>\n",
       "    <tr>\n",
       "      <th>count</th>\n",
       "      <td>2.016700e+04</td>\n",
       "      <td>20167.000000</td>\n",
       "      <td>20167.000000</td>\n",
       "      <td>20167.000000</td>\n",
       "      <td>20167.000000</td>\n",
       "      <td>20167.000000</td>\n",
       "    </tr>\n",
       "    <tr>\n",
       "      <th>mean</th>\n",
       "      <td>1.362987e+06</td>\n",
       "      <td>28.543065</td>\n",
       "      <td>0.773537</td>\n",
       "      <td>-1.429786</td>\n",
       "      <td>2.208701</td>\n",
       "      <td>-1130.349441</td>\n",
       "    </tr>\n",
       "    <tr>\n",
       "      <th>std</th>\n",
       "      <td>2.934641e+02</td>\n",
       "      <td>21.946014</td>\n",
       "      <td>455.914969</td>\n",
       "      <td>451.535918</td>\n",
       "      <td>8.135091</td>\n",
       "      <td>1377.689559</td>\n",
       "    </tr>\n",
       "    <tr>\n",
       "      <th>min</th>\n",
       "      <td>1.362480e+06</td>\n",
       "      <td>1.000000</td>\n",
       "      <td>-1565.500000</td>\n",
       "      <td>-1565.500000</td>\n",
       "      <td>0.000000</td>\n",
       "      <td>-17300.000000</td>\n",
       "    </tr>\n",
       "    <tr>\n",
       "      <th>25%</th>\n",
       "      <td>1.362730e+06</td>\n",
       "      <td>12.000000</td>\n",
       "      <td>-166.790000</td>\n",
       "      <td>-166.790000</td>\n",
       "      <td>0.000000</td>\n",
       "      <td>-1411.110000</td>\n",
       "    </tr>\n",
       "    <tr>\n",
       "      <th>50%</th>\n",
       "      <td>1.362980e+06</td>\n",
       "      <td>24.000000</td>\n",
       "      <td>-67.510000</td>\n",
       "      <td>-67.510000</td>\n",
       "      <td>0.000000</td>\n",
       "      <td>-766.210000</td>\n",
       "    </tr>\n",
       "    <tr>\n",
       "      <th>75%</th>\n",
       "      <td>1.363249e+06</td>\n",
       "      <td>40.000000</td>\n",
       "      <td>0.000000</td>\n",
       "      <td>0.000000</td>\n",
       "      <td>0.000000</td>\n",
       "      <td>-334.290000</td>\n",
       "    </tr>\n",
       "    <tr>\n",
       "      <th>max</th>\n",
       "      <td>1.363492e+06</td>\n",
       "      <td>155.000000</td>\n",
       "      <td>17464.520000</td>\n",
       "      <td>17300.000000</td>\n",
       "      <td>164.520000</td>\n",
       "      <td>0.000000</td>\n",
       "    </tr>\n",
       "  </tbody>\n",
       "</table>\n",
       "</div>"
      ],
      "text/plain": [
       "            cust_id       tran_id      tran_amt  principal_amt  interest_amt  \\\n",
       "count  2.016700e+04  20167.000000  20167.000000   20167.000000  20167.000000   \n",
       "mean   1.362987e+06     28.543065      0.773537      -1.429786      2.208701   \n",
       "std    2.934641e+02     21.946014    455.914969     451.535918      8.135091   \n",
       "min    1.362480e+06      1.000000  -1565.500000   -1565.500000      0.000000   \n",
       "25%    1.362730e+06     12.000000   -166.790000    -166.790000      0.000000   \n",
       "50%    1.362980e+06     24.000000    -67.510000     -67.510000      0.000000   \n",
       "75%    1.363249e+06     40.000000      0.000000       0.000000      0.000000   \n",
       "max    1.363492e+06    155.000000  17464.520000   17300.000000    164.520000   \n",
       "\n",
       "        new_balance  \n",
       "count  20167.000000  \n",
       "mean   -1130.349441  \n",
       "std     1377.689559  \n",
       "min   -17300.000000  \n",
       "25%    -1411.110000  \n",
       "50%     -766.210000  \n",
       "75%     -334.290000  \n",
       "max        0.000000  "
      ]
     },
     "execution_count": 22,
     "metadata": {},
     "output_type": "execute_result"
    }
   ],
   "source": [
    "credit_tran.describe()"
   ]
  },
  {
   "cell_type": "code",
   "execution_count": 23,
   "id": "5bac8c55",
   "metadata": {
    "scrolled": false
   },
   "outputs": [
    {
     "data": {
      "text/plain": [
       "100      2000.40\n",
       "121      1428.75\n",
       "212     -1565.50\n",
       "240      5384.21\n",
       "288      1708.41\n",
       "          ...   \n",
       "19846    1534.27\n",
       "20128    1653.86\n",
       "20137    2071.77\n",
       "20145    1784.96\n",
       "20149    2573.78\n",
       "Name: tran_amt, Length: 313, dtype: float64"
      ]
     },
     "execution_count": 23,
     "metadata": {},
     "output_type": "execute_result"
    }
   ],
   "source": [
    "from scipy import stats\n",
    "\n",
    "#Finding Z Score on Column\n",
    "stats.zscore(credit_tran['tran_amt'])\n",
    "\n",
    "#view the outliers\n",
    "credit_tran['tran_amt'][(np.abs(stats.zscore(credit_tran['tran_amt'])) > 3)]"
   ]
  },
  {
   "cell_type": "markdown",
   "id": "32b60509",
   "metadata": {},
   "source": [
    "## Deleting outliers"
   ]
  },
  {
   "cell_type": "code",
   "execution_count": null,
   "id": "21631213",
   "metadata": {},
   "outputs": [],
   "source": [
    "credit_tran_clean=credit_tran[(np.abs(stats.zscore(credit_tran['tran_amt'])) <= 3)]\n",
    "\n",
    "credit_tran_clean.head()"
   ]
  },
  {
   "cell_type": "code",
   "execution_count": null,
   "id": "a3e66718",
   "metadata": {
    "scrolled": true
   },
   "outputs": [],
   "source": [
    "credit_tran_clean=credit_tran_clean[['cust_id','tran_amt']]\n",
    "credit_tran_clean.describe()"
   ]
  },
  {
   "cell_type": "code",
   "execution_count": null,
   "id": "d1778d29",
   "metadata": {},
   "outputs": [],
   "source": [
    "credit_tran_clean['tran_amt']=credit_tran_clean['tran_amt'].abs()"
   ]
  },
  {
   "cell_type": "code",
   "execution_count": null,
   "id": "fe28086e",
   "metadata": {},
   "outputs": [],
   "source": [
    "credit_tran_clean_df1 = credit_tran_clean.groupby(['cust_id']).count()\n",
    "credit_tran_clean_df1= credit_tran_clean_df1.rename(columns={'tran_amt': 'credit_tran_count'})\n",
    "credit_tran_clean_df1.head(2)"
   ]
  },
  {
   "cell_type": "code",
   "execution_count": null,
   "id": "3bc8b333",
   "metadata": {
    "scrolled": true
   },
   "outputs": [],
   "source": [
    "credit_tran_clean_df2 = credit_tran_clean.groupby(['cust_id']).mean()\n",
    "credit_tran_clean_df2= credit_tran_clean_df2.rename(columns={'tran_amt': 'credit_tran_avg'})\n",
    "credit_tran_clean_df2.head(2)"
   ]
  },
  {
   "cell_type": "code",
   "execution_count": null,
   "id": "3264b31a",
   "metadata": {},
   "outputs": [],
   "source": [
    "result_checking_tran_clean=pd.concat([credit_tran_clean_df1,credit_tran_clean_df2],axis=1, join=\"inner\").reset_index()\n",
    "credit_result=result_checking_tran_clean"
   ]
  },
  {
   "cell_type": "code",
   "execution_count": null,
   "id": "49bb0928",
   "metadata": {},
   "outputs": [],
   "source": [
    "# exporting the cleaned data as a CSV file \n",
    "credit_result.to_csv('data/credit_result.csv',index=False)"
   ]
  },
  {
   "cell_type": "markdown",
   "id": "46bf6a52",
   "metadata": {},
   "source": [
    "## Cleaning savings_tran Table"
   ]
  },
  {
   "cell_type": "code",
   "execution_count": null,
   "id": "7720e15e",
   "metadata": {
    "scrolled": true
   },
   "outputs": [],
   "source": [
    "savings_tran.info()"
   ]
  },
  {
   "cell_type": "code",
   "execution_count": null,
   "id": "9492dd8b",
   "metadata": {
    "scrolled": true
   },
   "outputs": [],
   "source": [
    "savings_tran.describe()"
   ]
  },
  {
   "cell_type": "code",
   "execution_count": null,
   "id": "c2036dca",
   "metadata": {
    "scrolled": false
   },
   "outputs": [],
   "source": [
    "from scipy import stats\n",
    "\n",
    "#Finding Z Score on Column\n",
    "stats.zscore(savings_tran['tran_amt'])\n",
    "\n",
    "#view the outliers\n",
    "savings_tran['tran_amt'][(np.abs(stats.zscore(savings_tran['tran_amt'])) > 3)]"
   ]
  },
  {
   "cell_type": "markdown",
   "id": "e2cc1517",
   "metadata": {},
   "source": [
    "## Deleting outliers"
   ]
  },
  {
   "cell_type": "code",
   "execution_count": null,
   "id": "eddaef1c",
   "metadata": {
    "scrolled": true
   },
   "outputs": [],
   "source": [
    "savings_tran_clean=savings_tran[(np.abs(stats.zscore(savings_tran['tran_amt'])) <= 3)]\n",
    "\n",
    "savings_tran_clean.head()"
   ]
  },
  {
   "cell_type": "code",
   "execution_count": null,
   "id": "99404c02",
   "metadata": {
    "scrolled": true
   },
   "outputs": [],
   "source": [
    "savings_tran_clean=savings_tran_clean[['cust_id','tran_amt']]\n",
    "#result_savings_tran_clean.describe()"
   ]
  },
  {
   "cell_type": "code",
   "execution_count": null,
   "id": "6c069b11",
   "metadata": {},
   "outputs": [],
   "source": [
    "# Create a histogram of the tran_amt column\n",
    "plt.hist(result_savings_tran_clean['tran_amt'])\n",
    "plt.xlabel('tran_amt')\n",
    "plt.ylabel('Frequency')\n",
    "plt.show()"
   ]
  },
  {
   "cell_type": "code",
   "execution_count": null,
   "id": "4c27a905",
   "metadata": {
    "scrolled": true
   },
   "outputs": [],
   "source": [
    "savings_tran_clean['tran_amt']=savings_tran_clean['tran_amt'].abs()"
   ]
  },
  {
   "cell_type": "code",
   "execution_count": null,
   "id": "f79e93ae",
   "metadata": {},
   "outputs": [],
   "source": [
    "savings_tran_clean_df1 = savings_tran_clean.groupby(['cust_id']).count()\n",
    "savings_tran_clean_df1= savings_tran_clean_df1.rename(columns={'tran_amt': 'savings_tran_count'})\n",
    "savings_tran_clean_df1.head(2)"
   ]
  },
  {
   "cell_type": "code",
   "execution_count": null,
   "id": "b0b4cf82",
   "metadata": {
    "scrolled": true
   },
   "outputs": [],
   "source": [
    "savings_tran_clean_df2 = savings_tran_clean.groupby(['cust_id']).mean()\n",
    "savings_tran_clean_df2= savings_tran_clean_df2.rename(columns={'tran_amt': 'savings_tran_avg'})\n",
    "savings_tran_clean_df2.head(2)"
   ]
  },
  {
   "cell_type": "code",
   "execution_count": null,
   "id": "0c7a0a97",
   "metadata": {},
   "outputs": [],
   "source": [
    "result_checking_tran_clean=pd.concat([savings_tran_clean_df1,savings_tran_clean_df2],axis=1, join=\"inner\").reset_index()\n",
    "savings_result=result_checking_tran_clean"
   ]
  },
  {
   "cell_type": "code",
   "execution_count": null,
   "id": "308844f2",
   "metadata": {},
   "outputs": [],
   "source": [
    "# exporting the cleaned data as a CSV file \n",
    "savings_result.to_csv('data/savings_result.csv',index=False)"
   ]
  }
 ],
 "metadata": {
  "kernelspec": {
   "display_name": "Python 3 (ipykernel)",
   "language": "python",
   "name": "python3"
  },
  "language_info": {
   "codemirror_mode": {
    "name": "ipython",
    "version": 3
   },
   "file_extension": ".py",
   "mimetype": "text/x-python",
   "name": "python",
   "nbconvert_exporter": "python",
   "pygments_lexer": "ipython3",
   "version": "3.9.13"
  }
 },
 "nbformat": 4,
 "nbformat_minor": 5
}
