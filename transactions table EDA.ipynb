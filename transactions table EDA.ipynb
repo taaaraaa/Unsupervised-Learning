{
 "cells": [
  {
   "cell_type": "code",
   "execution_count": 1,
   "id": "0c83f75a",
   "metadata": {},
   "outputs": [],
   "source": [
    "import pandas as pd\n",
    "import numpy as np"
   ]
  },
  {
   "cell_type": "code",
   "execution_count": 2,
   "id": "fc54a53e",
   "metadata": {},
   "outputs": [],
   "source": [
    "transactions=pd.read_csv('data/twm_transactions.csv',sep=';')"
   ]
  },
  {
   "cell_type": "code",
   "execution_count": 3,
   "id": "a5905e3f",
   "metadata": {},
   "outputs": [],
   "source": [
    "checking_tran=pd.read_csv('data/twm_checking_tran.csv',sep=';')"
   ]
  },
  {
   "cell_type": "code",
   "execution_count": 4,
   "id": "42ac8ac8",
   "metadata": {},
   "outputs": [],
   "source": [
    "credit_tran=pd.read_csv('data/twm_credit_tran.csv',sep=';')"
   ]
  },
  {
   "cell_type": "code",
   "execution_count": 5,
   "id": "90888cef",
   "metadata": {},
   "outputs": [],
   "source": [
    "savings_tran=pd.read_csv('data/twm_savings_tran.csv',sep=';')"
   ]
  },
  {
   "cell_type": "markdown",
   "id": "7b3ff617",
   "metadata": {},
   "source": [
    "_______________"
   ]
  },
  {
   "cell_type": "markdown",
   "id": "613d8674",
   "metadata": {},
   "source": [
    "## Cleaning and transforming transactions Table"
   ]
  },
  {
   "cell_type": "code",
   "execution_count": 6,
   "id": "ca05fa8b",
   "metadata": {
    "scrolled": true
   },
   "outputs": [
    {
     "data": {
      "text/html": [
       "<div>\n",
       "<style scoped>\n",
       "    .dataframe tbody tr th:only-of-type {\n",
       "        vertical-align: middle;\n",
       "    }\n",
       "\n",
       "    .dataframe tbody tr th {\n",
       "        vertical-align: top;\n",
       "    }\n",
       "\n",
       "    .dataframe thead th {\n",
       "        text-align: right;\n",
       "    }\n",
       "</style>\n",
       "<table border=\"1\" class=\"dataframe\">\n",
       "  <thead>\n",
       "    <tr style=\"text-align: right;\">\n",
       "      <th></th>\n",
       "      <th>tran_id</th>\n",
       "      <th>acct_nbr</th>\n",
       "      <th>tran_amt</th>\n",
       "      <th>principal_amt</th>\n",
       "      <th>interest_amt</th>\n",
       "      <th>new_balance</th>\n",
       "      <th>tran_date</th>\n",
       "      <th>tran_time</th>\n",
       "      <th>channel</th>\n",
       "      <th>tran_code</th>\n",
       "    </tr>\n",
       "  </thead>\n",
       "  <tbody>\n",
       "    <tr>\n",
       "      <th>0</th>\n",
       "      <td>27</td>\n",
       "      <td>13625623</td>\n",
       "      <td>0.00</td>\n",
       "      <td>0.00</td>\n",
       "      <td>0.0</td>\n",
       "      <td>3753.34</td>\n",
       "      <td>21.10.1995</td>\n",
       "      <td>121656</td>\n",
       "      <td>A</td>\n",
       "      <td>IQ</td>\n",
       "    </tr>\n",
       "    <tr>\n",
       "      <th>1</th>\n",
       "      <td>97</td>\n",
       "      <td>13628392</td>\n",
       "      <td>0.00</td>\n",
       "      <td>0.00</td>\n",
       "      <td>0.0</td>\n",
       "      <td>254.49</td>\n",
       "      <td>5.2.1995</td>\n",
       "      <td>153053</td>\n",
       "      <td>V</td>\n",
       "      <td>IQ</td>\n",
       "    </tr>\n",
       "    <tr>\n",
       "      <th>2</th>\n",
       "      <td>21</td>\n",
       "      <td>13630842</td>\n",
       "      <td>-97.57</td>\n",
       "      <td>-97.57</td>\n",
       "      <td>0.0</td>\n",
       "      <td>3819.56</td>\n",
       "      <td>23.7.1995</td>\n",
       "      <td>0</td>\n",
       "      <td>P</td>\n",
       "      <td>WD</td>\n",
       "    </tr>\n",
       "    <tr>\n",
       "      <th>3</th>\n",
       "      <td>44</td>\n",
       "      <td>13631412</td>\n",
       "      <td>-0.15</td>\n",
       "      <td>-0.15</td>\n",
       "      <td>0.0</td>\n",
       "      <td>224.05</td>\n",
       "      <td>30.1.1995</td>\n",
       "      <td>0</td>\n",
       "      <td></td>\n",
       "      <td>FK</td>\n",
       "    </tr>\n",
       "    <tr>\n",
       "      <th>4</th>\n",
       "      <td>31</td>\n",
       "      <td>13625722</td>\n",
       "      <td>0.00</td>\n",
       "      <td>0.00</td>\n",
       "      <td>0.0</td>\n",
       "      <td>240.55</td>\n",
       "      <td>25.1.1995</td>\n",
       "      <td>204521</td>\n",
       "      <td>B</td>\n",
       "      <td>IQ</td>\n",
       "    </tr>\n",
       "  </tbody>\n",
       "</table>\n",
       "</div>"
      ],
      "text/plain": [
       "   tran_id  acct_nbr  tran_amt  principal_amt  interest_amt  new_balance  \\\n",
       "0       27  13625623      0.00           0.00           0.0      3753.34   \n",
       "1       97  13628392      0.00           0.00           0.0       254.49   \n",
       "2       21  13630842    -97.57         -97.57           0.0      3819.56   \n",
       "3       44  13631412     -0.15          -0.15           0.0       224.05   \n",
       "4       31  13625722      0.00           0.00           0.0       240.55   \n",
       "\n",
       "    tran_date  tran_time channel tran_code  \n",
       "0  21.10.1995     121656      A       IQ    \n",
       "1    5.2.1995     153053      V       IQ    \n",
       "2   23.7.1995          0      P       WD    \n",
       "3   30.1.1995          0              FK    \n",
       "4   25.1.1995     204521      B       IQ    "
      ]
     },
     "execution_count": 6,
     "metadata": {},
     "output_type": "execute_result"
    }
   ],
   "source": [
    "transactions.head(5)"
   ]
  },
  {
   "cell_type": "code",
   "execution_count": null,
   "id": "3b94ca88",
   "metadata": {},
   "outputs": [],
   "source": [
    "transactions.describe()"
   ]
  },
  {
   "cell_type": "code",
   "execution_count": null,
   "id": "7a562cc1",
   "metadata": {},
   "outputs": [],
   "source": [
    "transactions.info()"
   ]
  },
  {
   "cell_type": "markdown",
   "id": "2cbb2e71",
   "metadata": {},
   "source": [
    "## Identifying outliers in Transactions table"
   ]
  },
  {
   "cell_type": "code",
   "execution_count": 7,
   "id": "0fd6861e",
   "metadata": {},
   "outputs": [
    {
     "data": {
      "text/plain": [
       "0        0.024780\n",
       "1        0.024780\n",
       "2       -0.287262\n",
       "3        0.024300\n",
       "4        0.024780\n",
       "           ...   \n",
       "77575   -0.281313\n",
       "77576   -0.275524\n",
       "77577   -0.008321\n",
       "77578   -1.330588\n",
       "77579    0.024780\n",
       "Name: tran_amt, Length: 77580, dtype: float64"
      ]
     },
     "execution_count": 7,
     "metadata": {},
     "output_type": "execute_result"
    }
   ],
   "source": [
    "from scipy import stats\n",
    "\n",
    "#Finding Z Score on Column\n",
    "stats.zscore(transactions['tran_amt'])\n",
    "\n",
    "#view the outliers\n",
    "#transactions['tran_amt'][(np.abs(stats.zscore(transactions['tran_amt'])) > 3)]"
   ]
  },
  {
   "cell_type": "markdown",
   "id": "ba3513c3",
   "metadata": {},
   "source": [
    "## Deleting outliers"
   ]
  },
  {
   "cell_type": "code",
   "execution_count": 8,
   "id": "b3530637",
   "metadata": {},
   "outputs": [
    {
     "data": {
      "text/html": [
       "<div>\n",
       "<style scoped>\n",
       "    .dataframe tbody tr th:only-of-type {\n",
       "        vertical-align: middle;\n",
       "    }\n",
       "\n",
       "    .dataframe tbody tr th {\n",
       "        vertical-align: top;\n",
       "    }\n",
       "\n",
       "    .dataframe thead th {\n",
       "        text-align: right;\n",
       "    }\n",
       "</style>\n",
       "<table border=\"1\" class=\"dataframe\">\n",
       "  <thead>\n",
       "    <tr style=\"text-align: right;\">\n",
       "      <th></th>\n",
       "      <th>tran_id</th>\n",
       "      <th>acct_nbr</th>\n",
       "      <th>tran_amt</th>\n",
       "      <th>principal_amt</th>\n",
       "      <th>interest_amt</th>\n",
       "      <th>new_balance</th>\n",
       "      <th>tran_date</th>\n",
       "      <th>tran_time</th>\n",
       "      <th>channel</th>\n",
       "      <th>tran_code</th>\n",
       "    </tr>\n",
       "  </thead>\n",
       "  <tbody>\n",
       "    <tr>\n",
       "      <th>0</th>\n",
       "      <td>27</td>\n",
       "      <td>13625623</td>\n",
       "      <td>0.00</td>\n",
       "      <td>0.00</td>\n",
       "      <td>0.0</td>\n",
       "      <td>3753.34</td>\n",
       "      <td>21.10.1995</td>\n",
       "      <td>121656</td>\n",
       "      <td>A</td>\n",
       "      <td>IQ</td>\n",
       "    </tr>\n",
       "    <tr>\n",
       "      <th>1</th>\n",
       "      <td>97</td>\n",
       "      <td>13628392</td>\n",
       "      <td>0.00</td>\n",
       "      <td>0.00</td>\n",
       "      <td>0.0</td>\n",
       "      <td>254.49</td>\n",
       "      <td>5.2.1995</td>\n",
       "      <td>153053</td>\n",
       "      <td>V</td>\n",
       "      <td>IQ</td>\n",
       "    </tr>\n",
       "    <tr>\n",
       "      <th>2</th>\n",
       "      <td>21</td>\n",
       "      <td>13630842</td>\n",
       "      <td>-97.57</td>\n",
       "      <td>-97.57</td>\n",
       "      <td>0.0</td>\n",
       "      <td>3819.56</td>\n",
       "      <td>23.7.1995</td>\n",
       "      <td>0</td>\n",
       "      <td>P</td>\n",
       "      <td>WD</td>\n",
       "    </tr>\n",
       "    <tr>\n",
       "      <th>3</th>\n",
       "      <td>44</td>\n",
       "      <td>13631412</td>\n",
       "      <td>-0.15</td>\n",
       "      <td>-0.15</td>\n",
       "      <td>0.0</td>\n",
       "      <td>224.05</td>\n",
       "      <td>30.1.1995</td>\n",
       "      <td>0</td>\n",
       "      <td></td>\n",
       "      <td>FK</td>\n",
       "    </tr>\n",
       "    <tr>\n",
       "      <th>4</th>\n",
       "      <td>31</td>\n",
       "      <td>13625722</td>\n",
       "      <td>0.00</td>\n",
       "      <td>0.00</td>\n",
       "      <td>0.0</td>\n",
       "      <td>240.55</td>\n",
       "      <td>25.1.1995</td>\n",
       "      <td>204521</td>\n",
       "      <td>B</td>\n",
       "      <td>IQ</td>\n",
       "    </tr>\n",
       "    <tr>\n",
       "      <th>...</th>\n",
       "      <td>...</td>\n",
       "      <td>...</td>\n",
       "      <td>...</td>\n",
       "      <td>...</td>\n",
       "      <td>...</td>\n",
       "      <td>...</td>\n",
       "      <td>...</td>\n",
       "      <td>...</td>\n",
       "      <td>...</td>\n",
       "      <td>...</td>\n",
       "    </tr>\n",
       "    <tr>\n",
       "      <th>77575</th>\n",
       "      <td>77</td>\n",
       "      <td>13631752</td>\n",
       "      <td>-95.71</td>\n",
       "      <td>-95.71</td>\n",
       "      <td>0.0</td>\n",
       "      <td>95.71</td>\n",
       "      <td>14.2.1995</td>\n",
       "      <td>161001</td>\n",
       "      <td>A</td>\n",
       "      <td>TR</td>\n",
       "    </tr>\n",
       "    <tr>\n",
       "      <th>77576</th>\n",
       "      <td>94</td>\n",
       "      <td>13626772</td>\n",
       "      <td>-93.90</td>\n",
       "      <td>-93.90</td>\n",
       "      <td>0.0</td>\n",
       "      <td>824.36</td>\n",
       "      <td>11.3.1995</td>\n",
       "      <td>0</td>\n",
       "      <td>P</td>\n",
       "      <td>WD</td>\n",
       "    </tr>\n",
       "    <tr>\n",
       "      <th>77577</th>\n",
       "      <td>42</td>\n",
       "      <td>13625262</td>\n",
       "      <td>-10.35</td>\n",
       "      <td>-10.35</td>\n",
       "      <td>0.0</td>\n",
       "      <td>10.36</td>\n",
       "      <td>26.8.1995</td>\n",
       "      <td>0</td>\n",
       "      <td>P</td>\n",
       "      <td>WD</td>\n",
       "    </tr>\n",
       "    <tr>\n",
       "      <th>77578</th>\n",
       "      <td>98</td>\n",
       "      <td>13627052</td>\n",
       "      <td>-423.80</td>\n",
       "      <td>-423.80</td>\n",
       "      <td>0.0</td>\n",
       "      <td>162.28</td>\n",
       "      <td>13.6.1995</td>\n",
       "      <td>110209</td>\n",
       "      <td>E</td>\n",
       "      <td>WD</td>\n",
       "    </tr>\n",
       "    <tr>\n",
       "      <th>77579</th>\n",
       "      <td>57</td>\n",
       "      <td>4561143213632570</td>\n",
       "      <td>0.00</td>\n",
       "      <td>0.00</td>\n",
       "      <td>0.0</td>\n",
       "      <td>-2420.91</td>\n",
       "      <td>18.10.1995</td>\n",
       "      <td>104027</td>\n",
       "      <td>A</td>\n",
       "      <td>IQ</td>\n",
       "    </tr>\n",
       "  </tbody>\n",
       "</table>\n",
       "<p>76229 rows × 10 columns</p>\n",
       "</div>"
      ],
      "text/plain": [
       "       tran_id          acct_nbr  tran_amt  principal_amt  interest_amt  \\\n",
       "0           27          13625623      0.00           0.00           0.0   \n",
       "1           97          13628392      0.00           0.00           0.0   \n",
       "2           21          13630842    -97.57         -97.57           0.0   \n",
       "3           44          13631412     -0.15          -0.15           0.0   \n",
       "4           31          13625722      0.00           0.00           0.0   \n",
       "...        ...               ...       ...            ...           ...   \n",
       "77575       77          13631752    -95.71         -95.71           0.0   \n",
       "77576       94          13626772    -93.90         -93.90           0.0   \n",
       "77577       42          13625262    -10.35         -10.35           0.0   \n",
       "77578       98          13627052   -423.80        -423.80           0.0   \n",
       "77579       57  4561143213632570      0.00           0.00           0.0   \n",
       "\n",
       "       new_balance   tran_date  tran_time channel tran_code  \n",
       "0          3753.34  21.10.1995     121656      A       IQ    \n",
       "1           254.49    5.2.1995     153053      V       IQ    \n",
       "2          3819.56   23.7.1995          0      P       WD    \n",
       "3           224.05   30.1.1995          0              FK    \n",
       "4           240.55   25.1.1995     204521      B       IQ    \n",
       "...            ...         ...        ...     ...       ...  \n",
       "77575        95.71   14.2.1995     161001      A       TR    \n",
       "77576       824.36   11.3.1995          0      P       WD    \n",
       "77577        10.36   26.8.1995          0      P       WD    \n",
       "77578       162.28   13.6.1995     110209      E       WD    \n",
       "77579     -2420.91  18.10.1995     104027      A       IQ    \n",
       "\n",
       "[76229 rows x 10 columns]"
      ]
     },
     "execution_count": 8,
     "metadata": {},
     "output_type": "execute_result"
    }
   ],
   "source": [
    "transactions_clean=transactions[(np.abs(stats.zscore(transactions['tran_amt'])) <= 3)]\n",
    "transactions_clean"
   ]
  },
  {
   "cell_type": "markdown",
   "id": "2d2d1e91",
   "metadata": {},
   "source": [
    "----------------------------------"
   ]
  },
  {
   "cell_type": "markdown",
   "id": "4cf20357",
   "metadata": {},
   "source": [
    "## Deleting unwanted columns"
   ]
  },
  {
   "cell_type": "code",
   "execution_count": 12,
   "id": "80635ef0",
   "metadata": {},
   "outputs": [
    {
     "data": {
      "text/html": [
       "<div>\n",
       "<style scoped>\n",
       "    .dataframe tbody tr th:only-of-type {\n",
       "        vertical-align: middle;\n",
       "    }\n",
       "\n",
       "    .dataframe tbody tr th {\n",
       "        vertical-align: top;\n",
       "    }\n",
       "\n",
       "    .dataframe thead th {\n",
       "        text-align: right;\n",
       "    }\n",
       "</style>\n",
       "<table border=\"1\" class=\"dataframe\">\n",
       "  <thead>\n",
       "    <tr style=\"text-align: right;\">\n",
       "      <th></th>\n",
       "      <th>acct_nbr</th>\n",
       "      <th>tran_amt</th>\n",
       "    </tr>\n",
       "  </thead>\n",
       "  <tbody>\n",
       "    <tr>\n",
       "      <th>0</th>\n",
       "      <td>13625623</td>\n",
       "      <td>0.00</td>\n",
       "    </tr>\n",
       "    <tr>\n",
       "      <th>1</th>\n",
       "      <td>13628392</td>\n",
       "      <td>0.00</td>\n",
       "    </tr>\n",
       "    <tr>\n",
       "      <th>2</th>\n",
       "      <td>13630842</td>\n",
       "      <td>97.57</td>\n",
       "    </tr>\n",
       "    <tr>\n",
       "      <th>3</th>\n",
       "      <td>13631412</td>\n",
       "      <td>0.15</td>\n",
       "    </tr>\n",
       "    <tr>\n",
       "      <th>4</th>\n",
       "      <td>13625722</td>\n",
       "      <td>0.00</td>\n",
       "    </tr>\n",
       "  </tbody>\n",
       "</table>\n",
       "</div>"
      ],
      "text/plain": [
       "   acct_nbr  tran_amt\n",
       "0  13625623      0.00\n",
       "1  13628392      0.00\n",
       "2  13630842     97.57\n",
       "3  13631412      0.15\n",
       "4  13625722      0.00"
      ]
     },
     "execution_count": 12,
     "metadata": {},
     "output_type": "execute_result"
    }
   ],
   "source": [
    "transactions_clean=transactions_clean[['acct_nbr','tran_amt']]\n",
    "transactions_clean.head()"
   ]
  },
  {
   "cell_type": "code",
   "execution_count": 14,
   "id": "19b75b3a",
   "metadata": {},
   "outputs": [],
   "source": [
    "transactions_clean['tran_amt'].abs()\n",
    "transactions_clean['tran_amt']=transactions_clean['tran_amt'].abs()"
   ]
  },
  {
   "cell_type": "code",
   "execution_count": 16,
   "id": "ed45944c",
   "metadata": {},
   "outputs": [
    {
     "data": {
      "text/html": [
       "<div>\n",
       "<style scoped>\n",
       "    .dataframe tbody tr th:only-of-type {\n",
       "        vertical-align: middle;\n",
       "    }\n",
       "\n",
       "    .dataframe tbody tr th {\n",
       "        vertical-align: top;\n",
       "    }\n",
       "\n",
       "    .dataframe thead th {\n",
       "        text-align: right;\n",
       "    }\n",
       "</style>\n",
       "<table border=\"1\" class=\"dataframe\">\n",
       "  <thead>\n",
       "    <tr style=\"text-align: right;\">\n",
       "      <th></th>\n",
       "      <th>tran_amt</th>\n",
       "    </tr>\n",
       "    <tr>\n",
       "      <th>acct_nbr</th>\n",
       "      <th></th>\n",
       "    </tr>\n",
       "  </thead>\n",
       "  <tbody>\n",
       "    <tr>\n",
       "      <th>13624802</th>\n",
       "      <td>96</td>\n",
       "    </tr>\n",
       "    <tr>\n",
       "      <th>13624803</th>\n",
       "      <td>26</td>\n",
       "    </tr>\n",
       "    <tr>\n",
       "      <th>13624842</th>\n",
       "      <td>99</td>\n",
       "    </tr>\n",
       "    <tr>\n",
       "      <th>13624843</th>\n",
       "      <td>33</td>\n",
       "    </tr>\n",
       "    <tr>\n",
       "      <th>13624852</th>\n",
       "      <td>99</td>\n",
       "    </tr>\n",
       "    <tr>\n",
       "      <th>...</th>\n",
       "      <td>...</td>\n",
       "    </tr>\n",
       "    <tr>\n",
       "      <th>4561143213634830</th>\n",
       "      <td>74</td>\n",
       "    </tr>\n",
       "    <tr>\n",
       "      <th>4561143213634840</th>\n",
       "      <td>39</td>\n",
       "    </tr>\n",
       "    <tr>\n",
       "      <th>4561143213634850</th>\n",
       "      <td>22</td>\n",
       "    </tr>\n",
       "    <tr>\n",
       "      <th>4561143213634860</th>\n",
       "      <td>38</td>\n",
       "    </tr>\n",
       "    <tr>\n",
       "      <th>4561143213634920</th>\n",
       "      <td>25</td>\n",
       "    </tr>\n",
       "  </tbody>\n",
       "</table>\n",
       "<p>1393 rows × 1 columns</p>\n",
       "</div>"
      ],
      "text/plain": [
       "                  tran_amt\n",
       "acct_nbr                  \n",
       "13624802                96\n",
       "13624803                26\n",
       "13624842                99\n",
       "13624843                33\n",
       "13624852                99\n",
       "...                    ...\n",
       "4561143213634830        74\n",
       "4561143213634840        39\n",
       "4561143213634850        22\n",
       "4561143213634860        38\n",
       "4561143213634920        25\n",
       "\n",
       "[1393 rows x 1 columns]"
      ]
     },
     "execution_count": 16,
     "metadata": {},
     "output_type": "execute_result"
    }
   ],
   "source": [
    "transactions_clean_df1 = transactions_clean.groupby(['acct_nbr']).count()\n",
    "transactions_clean_df1 = transactions_clean_df1.rename(columns={'tran_id': 'transaction_count'})\n",
    "transactions_clean_df1"
   ]
  },
  {
   "cell_type": "code",
   "execution_count": 17,
   "id": "d7f9315d",
   "metadata": {},
   "outputs": [
    {
     "data": {
      "text/html": [
       "<div>\n",
       "<style scoped>\n",
       "    .dataframe tbody tr th:only-of-type {\n",
       "        vertical-align: middle;\n",
       "    }\n",
       "\n",
       "    .dataframe tbody tr th {\n",
       "        vertical-align: top;\n",
       "    }\n",
       "\n",
       "    .dataframe thead th {\n",
       "        text-align: right;\n",
       "    }\n",
       "</style>\n",
       "<table border=\"1\" class=\"dataframe\">\n",
       "  <thead>\n",
       "    <tr style=\"text-align: right;\">\n",
       "      <th></th>\n",
       "      <th>avg_tran_amt</th>\n",
       "    </tr>\n",
       "    <tr>\n",
       "      <th>acct_nbr</th>\n",
       "      <th></th>\n",
       "    </tr>\n",
       "  </thead>\n",
       "  <tbody>\n",
       "    <tr>\n",
       "      <th>13624802</th>\n",
       "      <td>99.535208</td>\n",
       "    </tr>\n",
       "    <tr>\n",
       "      <th>13624803</th>\n",
       "      <td>128.769231</td>\n",
       "    </tr>\n",
       "    <tr>\n",
       "      <th>13624842</th>\n",
       "      <td>77.955758</td>\n",
       "    </tr>\n",
       "    <tr>\n",
       "      <th>13624843</th>\n",
       "      <td>120.860606</td>\n",
       "    </tr>\n",
       "    <tr>\n",
       "      <th>13624852</th>\n",
       "      <td>103.074444</td>\n",
       "    </tr>\n",
       "    <tr>\n",
       "      <th>...</th>\n",
       "      <td>...</td>\n",
       "    </tr>\n",
       "    <tr>\n",
       "      <th>4561143213634830</th>\n",
       "      <td>140.094459</td>\n",
       "    </tr>\n",
       "    <tr>\n",
       "      <th>4561143213634840</th>\n",
       "      <td>176.143590</td>\n",
       "    </tr>\n",
       "    <tr>\n",
       "      <th>4561143213634850</th>\n",
       "      <td>67.272727</td>\n",
       "    </tr>\n",
       "    <tr>\n",
       "      <th>4561143213634860</th>\n",
       "      <td>0.000000</td>\n",
       "    </tr>\n",
       "    <tr>\n",
       "      <th>4561143213634920</th>\n",
       "      <td>502.100400</td>\n",
       "    </tr>\n",
       "  </tbody>\n",
       "</table>\n",
       "<p>1393 rows × 1 columns</p>\n",
       "</div>"
      ],
      "text/plain": [
       "                  avg_tran_amt\n",
       "acct_nbr                      \n",
       "13624802             99.535208\n",
       "13624803            128.769231\n",
       "13624842             77.955758\n",
       "13624843            120.860606\n",
       "13624852            103.074444\n",
       "...                        ...\n",
       "4561143213634830    140.094459\n",
       "4561143213634840    176.143590\n",
       "4561143213634850     67.272727\n",
       "4561143213634860      0.000000\n",
       "4561143213634920    502.100400\n",
       "\n",
       "[1393 rows x 1 columns]"
      ]
     },
     "execution_count": 17,
     "metadata": {},
     "output_type": "execute_result"
    }
   ],
   "source": [
    "transactions_clean_df2 = transactions_clean.groupby(['acct_nbr']).mean()\n",
    "transactions_clean_df2 = transactions_clean_df2.rename(columns={'tran_amt': 'avg_tran_amt'})\n",
    "\n",
    "\n",
    "transactions_clean_df2"
   ]
  },
  {
   "cell_type": "code",
   "execution_count": 18,
   "id": "9e940f01",
   "metadata": {
    "scrolled": true
   },
   "outputs": [
    {
     "data": {
      "text/html": [
       "<div>\n",
       "<style scoped>\n",
       "    .dataframe tbody tr th:only-of-type {\n",
       "        vertical-align: middle;\n",
       "    }\n",
       "\n",
       "    .dataframe tbody tr th {\n",
       "        vertical-align: top;\n",
       "    }\n",
       "\n",
       "    .dataframe thead th {\n",
       "        text-align: right;\n",
       "    }\n",
       "</style>\n",
       "<table border=\"1\" class=\"dataframe\">\n",
       "  <thead>\n",
       "    <tr style=\"text-align: right;\">\n",
       "      <th></th>\n",
       "      <th>acct_nbr</th>\n",
       "      <th>tran_amt</th>\n",
       "      <th>avg_tran_amt</th>\n",
       "    </tr>\n",
       "  </thead>\n",
       "  <tbody>\n",
       "    <tr>\n",
       "      <th>0</th>\n",
       "      <td>13624802</td>\n",
       "      <td>96</td>\n",
       "      <td>99.535208</td>\n",
       "    </tr>\n",
       "    <tr>\n",
       "      <th>1</th>\n",
       "      <td>13624803</td>\n",
       "      <td>26</td>\n",
       "      <td>128.769231</td>\n",
       "    </tr>\n",
       "    <tr>\n",
       "      <th>2</th>\n",
       "      <td>13624842</td>\n",
       "      <td>99</td>\n",
       "      <td>77.955758</td>\n",
       "    </tr>\n",
       "    <tr>\n",
       "      <th>3</th>\n",
       "      <td>13624843</td>\n",
       "      <td>33</td>\n",
       "      <td>120.860606</td>\n",
       "    </tr>\n",
       "    <tr>\n",
       "      <th>4</th>\n",
       "      <td>13624852</td>\n",
       "      <td>99</td>\n",
       "      <td>103.074444</td>\n",
       "    </tr>\n",
       "  </tbody>\n",
       "</table>\n",
       "</div>"
      ],
      "text/plain": [
       "   acct_nbr  tran_amt  avg_tran_amt\n",
       "0  13624802        96     99.535208\n",
       "1  13624803        26    128.769231\n",
       "2  13624842        99     77.955758\n",
       "3  13624843        33    120.860606\n",
       "4  13624852        99    103.074444"
      ]
     },
     "execution_count": 18,
     "metadata": {},
     "output_type": "execute_result"
    }
   ],
   "source": [
    "result_tran_clean = pd.concat([transactions_clean_df1, transactions_clean_df2], axis=1, join=\"inner\").reset_index()\n",
    "transactions_result=result_tran_clean\n",
    "transactions_result.head()"
   ]
  },
  {
   "cell_type": "code",
   "execution_count": 19,
   "id": "b950511d",
   "metadata": {},
   "outputs": [],
   "source": [
    "# exporting the cleaned data as a CSV file \n",
    "transactions_result.to_csv('data/transactions_result.csv',index=False)"
   ]
  },
  {
   "cell_type": "markdown",
   "id": "59e4ec93",
   "metadata": {},
   "source": [
    "-----------------------------"
   ]
  },
  {
   "cell_type": "markdown",
   "id": "34694ee6",
   "metadata": {},
   "source": [
    "## Cleaning checking_tran Table"
   ]
  },
  {
   "cell_type": "code",
   "execution_count": null,
   "id": "35cac46d",
   "metadata": {},
   "outputs": [],
   "source": [
    "checking_tran.info()"
   ]
  },
  {
   "cell_type": "code",
   "execution_count": null,
   "id": "5e370348",
   "metadata": {},
   "outputs": [],
   "source": [
    "checking_tran.describe()"
   ]
  },
  {
   "cell_type": "code",
   "execution_count": null,
   "id": "84fa39b0",
   "metadata": {},
   "outputs": [],
   "source": [
    "from scipy import stats\n",
    "\n",
    "#Finding Z Score on Column\n",
    "stats.zscore(checking_tran['tran_amt'])\n",
    "\n",
    "#view the outliers\n",
    "checking_tran['tran_amt'][(np.abs(stats.zscore(checking_tran['tran_amt'])) > 3)]"
   ]
  },
  {
   "cell_type": "markdown",
   "id": "26bcc48d",
   "metadata": {},
   "source": [
    "## Deleting outliers"
   ]
  },
  {
   "cell_type": "code",
   "execution_count": 25,
   "id": "a6ddd7a9",
   "metadata": {
    "scrolled": true
   },
   "outputs": [
    {
     "data": {
      "text/html": [
       "<div>\n",
       "<style scoped>\n",
       "    .dataframe tbody tr th:only-of-type {\n",
       "        vertical-align: middle;\n",
       "    }\n",
       "\n",
       "    .dataframe tbody tr th {\n",
       "        vertical-align: top;\n",
       "    }\n",
       "\n",
       "    .dataframe thead th {\n",
       "        text-align: right;\n",
       "    }\n",
       "</style>\n",
       "<table border=\"1\" class=\"dataframe\">\n",
       "  <thead>\n",
       "    <tr style=\"text-align: right;\">\n",
       "      <th></th>\n",
       "      <th>cust_id</th>\n",
       "      <th>tran_id</th>\n",
       "      <th>tran_amt</th>\n",
       "      <th>principal_amt</th>\n",
       "      <th>interest_amt</th>\n",
       "      <th>new_balance</th>\n",
       "      <th>tran_date</th>\n",
       "      <th>tran_time</th>\n",
       "      <th>channel</th>\n",
       "      <th>tran_code</th>\n",
       "    </tr>\n",
       "  </thead>\n",
       "  <tbody>\n",
       "    <tr>\n",
       "      <th>0</th>\n",
       "      <td>1363481</td>\n",
       "      <td>26</td>\n",
       "      <td>-0.15</td>\n",
       "      <td>-0.15</td>\n",
       "      <td>0.0</td>\n",
       "      <td>58.99</td>\n",
       "      <td>29.1.1995</td>\n",
       "      <td></td>\n",
       "      <td></td>\n",
       "      <td>FK</td>\n",
       "    </tr>\n",
       "    <tr>\n",
       "      <th>1</th>\n",
       "      <td>1362784</td>\n",
       "      <td>90</td>\n",
       "      <td>-200.00</td>\n",
       "      <td>-200.00</td>\n",
       "      <td>0.0</td>\n",
       "      <td>1380.69</td>\n",
       "      <td>2.7.1995</td>\n",
       "      <td>53313</td>\n",
       "      <td>A</td>\n",
       "      <td>WD</td>\n",
       "    </tr>\n",
       "    <tr>\n",
       "      <th>2</th>\n",
       "      <td>1363088</td>\n",
       "      <td>46</td>\n",
       "      <td>0.00</td>\n",
       "      <td>0.00</td>\n",
       "      <td>0.0</td>\n",
       "      <td>128.35</td>\n",
       "      <td>26.3.1995</td>\n",
       "      <td>834</td>\n",
       "      <td>A</td>\n",
       "      <td>IQ</td>\n",
       "    </tr>\n",
       "    <tr>\n",
       "      <th>3</th>\n",
       "      <td>1363306</td>\n",
       "      <td>32</td>\n",
       "      <td>-40.32</td>\n",
       "      <td>-40.32</td>\n",
       "      <td>0.0</td>\n",
       "      <td>433.06</td>\n",
       "      <td>29.1.1995</td>\n",
       "      <td></td>\n",
       "      <td>P</td>\n",
       "      <td>WD</td>\n",
       "    </tr>\n",
       "    <tr>\n",
       "      <th>4</th>\n",
       "      <td>1363251</td>\n",
       "      <td>11</td>\n",
       "      <td>-87.88</td>\n",
       "      <td>-87.88</td>\n",
       "      <td>0.0</td>\n",
       "      <td>1919.55</td>\n",
       "      <td>8.2.1995</td>\n",
       "      <td></td>\n",
       "      <td>P</td>\n",
       "      <td>WD</td>\n",
       "    </tr>\n",
       "  </tbody>\n",
       "</table>\n",
       "</div>"
      ],
      "text/plain": [
       "   cust_id  tran_id  tran_amt  principal_amt  interest_amt  new_balance  \\\n",
       "0  1363481       26     -0.15          -0.15           0.0        58.99   \n",
       "1  1362784       90   -200.00        -200.00           0.0      1380.69   \n",
       "2  1363088       46      0.00           0.00           0.0       128.35   \n",
       "3  1363306       32    -40.32         -40.32           0.0       433.06   \n",
       "4  1363251       11    -87.88         -87.88           0.0      1919.55   \n",
       "\n",
       "   tran_date     tran_time channel tran_code  \n",
       "0  29.1.1995                            FK    \n",
       "1   2.7.1995         53313      A       WD    \n",
       "2  26.3.1995           834      A       IQ    \n",
       "3  29.1.1995                    P       WD    \n",
       "4   8.2.1995                    P       WD    "
      ]
     },
     "execution_count": 25,
     "metadata": {},
     "output_type": "execute_result"
    }
   ],
   "source": [
    "checking_tran_clean=checking_tran[(np.abs(stats.zscore(checking_tran['tran_amt'])) <= 3)]\n",
    "checking_tran_clean.head()"
   ]
  },
  {
   "cell_type": "code",
   "execution_count": 26,
   "id": "7443beda",
   "metadata": {},
   "outputs": [],
   "source": [
    "checking_tran_clean=checking_tran_clean[['cust_id','tran_amt']]"
   ]
  },
  {
   "cell_type": "code",
   "execution_count": 27,
   "id": "46d6c1ea",
   "metadata": {},
   "outputs": [],
   "source": [
    "checking_tran_clean['tran_amt']=checking_tran_clean['tran_amt'].abs()"
   ]
  },
  {
   "cell_type": "code",
   "execution_count": 28,
   "id": "2b6199e0",
   "metadata": {
    "scrolled": true
   },
   "outputs": [
    {
     "data": {
      "text/html": [
       "<div>\n",
       "<style scoped>\n",
       "    .dataframe tbody tr th:only-of-type {\n",
       "        vertical-align: middle;\n",
       "    }\n",
       "\n",
       "    .dataframe tbody tr th {\n",
       "        vertical-align: top;\n",
       "    }\n",
       "\n",
       "    .dataframe thead th {\n",
       "        text-align: right;\n",
       "    }\n",
       "</style>\n",
       "<table border=\"1\" class=\"dataframe\">\n",
       "  <thead>\n",
       "    <tr style=\"text-align: right;\">\n",
       "      <th></th>\n",
       "      <th>checking_tran_count</th>\n",
       "    </tr>\n",
       "    <tr>\n",
       "      <th>cust_id</th>\n",
       "      <th></th>\n",
       "    </tr>\n",
       "  </thead>\n",
       "  <tbody>\n",
       "    <tr>\n",
       "      <th>1362480</th>\n",
       "      <td>93</td>\n",
       "    </tr>\n",
       "    <tr>\n",
       "      <th>1362484</th>\n",
       "      <td>98</td>\n",
       "    </tr>\n",
       "  </tbody>\n",
       "</table>\n",
       "</div>"
      ],
      "text/plain": [
       "         checking_tran_count\n",
       "cust_id                     \n",
       "1362480                   93\n",
       "1362484                   98"
      ]
     },
     "execution_count": 28,
     "metadata": {},
     "output_type": "execute_result"
    }
   ],
   "source": [
    "checking_tran_clean_df1 = checking_tran_clean.groupby(['cust_id']).count()\n",
    "checking_tran_clean_df1= checking_tran_clean_df1.rename(columns={'tran_amt': 'checking_tran_count'})\n",
    "checking_tran_clean_df1.head(2)"
   ]
  },
  {
   "cell_type": "code",
   "execution_count": 29,
   "id": "82a161ca",
   "metadata": {
    "scrolled": true
   },
   "outputs": [
    {
     "data": {
      "text/html": [
       "<div>\n",
       "<style scoped>\n",
       "    .dataframe tbody tr th:only-of-type {\n",
       "        vertical-align: middle;\n",
       "    }\n",
       "\n",
       "    .dataframe tbody tr th {\n",
       "        vertical-align: top;\n",
       "    }\n",
       "\n",
       "    .dataframe thead th {\n",
       "        text-align: right;\n",
       "    }\n",
       "</style>\n",
       "<table border=\"1\" class=\"dataframe\">\n",
       "  <thead>\n",
       "    <tr style=\"text-align: right;\">\n",
       "      <th></th>\n",
       "      <th>checking_tran_avg</th>\n",
       "    </tr>\n",
       "    <tr>\n",
       "      <th>cust_id</th>\n",
       "      <th></th>\n",
       "    </tr>\n",
       "  </thead>\n",
       "  <tbody>\n",
       "    <tr>\n",
       "      <th>1362480</th>\n",
       "      <td>76.888710</td>\n",
       "    </tr>\n",
       "    <tr>\n",
       "      <th>1362484</th>\n",
       "      <td>71.330918</td>\n",
       "    </tr>\n",
       "  </tbody>\n",
       "</table>\n",
       "</div>"
      ],
      "text/plain": [
       "         checking_tran_avg\n",
       "cust_id                   \n",
       "1362480          76.888710\n",
       "1362484          71.330918"
      ]
     },
     "execution_count": 29,
     "metadata": {},
     "output_type": "execute_result"
    }
   ],
   "source": [
    "checking_tran_clean_df2 = checking_tran_clean.groupby(['cust_id']).mean()\n",
    "checking_tran_clean_df2 = checking_tran_clean_df2.rename(columns={'tran_amt': 'checking_tran_avg'})\n",
    "checking_tran_clean_df2.head(2)"
   ]
  },
  {
   "cell_type": "code",
   "execution_count": 30,
   "id": "65176cbf",
   "metadata": {
    "scrolled": true
   },
   "outputs": [
    {
     "data": {
      "text/html": [
       "<div>\n",
       "<style scoped>\n",
       "    .dataframe tbody tr th:only-of-type {\n",
       "        vertical-align: middle;\n",
       "    }\n",
       "\n",
       "    .dataframe tbody tr th {\n",
       "        vertical-align: top;\n",
       "    }\n",
       "\n",
       "    .dataframe thead th {\n",
       "        text-align: right;\n",
       "    }\n",
       "</style>\n",
       "<table border=\"1\" class=\"dataframe\">\n",
       "  <thead>\n",
       "    <tr style=\"text-align: right;\">\n",
       "      <th></th>\n",
       "      <th>cust_id</th>\n",
       "      <th>checking_tran_count</th>\n",
       "      <th>checking_tran_avg</th>\n",
       "    </tr>\n",
       "  </thead>\n",
       "  <tbody>\n",
       "    <tr>\n",
       "      <th>0</th>\n",
       "      <td>1362480</td>\n",
       "      <td>93</td>\n",
       "      <td>76.888710</td>\n",
       "    </tr>\n",
       "    <tr>\n",
       "      <th>1</th>\n",
       "      <td>1362484</td>\n",
       "      <td>98</td>\n",
       "      <td>71.330918</td>\n",
       "    </tr>\n",
       "    <tr>\n",
       "      <th>2</th>\n",
       "      <td>1362485</td>\n",
       "      <td>96</td>\n",
       "      <td>80.350625</td>\n",
       "    </tr>\n",
       "    <tr>\n",
       "      <th>3</th>\n",
       "      <td>1362486</td>\n",
       "      <td>25</td>\n",
       "      <td>43.256000</td>\n",
       "    </tr>\n",
       "    <tr>\n",
       "      <th>4</th>\n",
       "      <td>1362487</td>\n",
       "      <td>52</td>\n",
       "      <td>62.400577</td>\n",
       "    </tr>\n",
       "  </tbody>\n",
       "</table>\n",
       "</div>"
      ],
      "text/plain": [
       "   cust_id  checking_tran_count  checking_tran_avg\n",
       "0  1362480                   93          76.888710\n",
       "1  1362484                   98          71.330918\n",
       "2  1362485                   96          80.350625\n",
       "3  1362486                   25          43.256000\n",
       "4  1362487                   52          62.400577"
      ]
     },
     "execution_count": 30,
     "metadata": {},
     "output_type": "execute_result"
    }
   ],
   "source": [
    "result_checking_tran_clean = pd.concat([checking_tran_clean_df1, checking_tran_clean_df2], axis=1, join=\"inner\").reset_index()\n",
    "checking_result=result_checking_tran_clean\n",
    "checking_result.head()"
   ]
  },
  {
   "cell_type": "code",
   "execution_count": null,
   "id": "7c44d20b",
   "metadata": {},
   "outputs": [],
   "source": [
    "# exporting the cleaned data as a CSV file \n",
    "checking_result.to_csv('data/checking_result.csv',index=False)"
   ]
  },
  {
   "cell_type": "markdown",
   "id": "d884227a",
   "metadata": {},
   "source": [
    "## Cleaning credit_tran Table"
   ]
  },
  {
   "cell_type": "code",
   "execution_count": 21,
   "id": "d8f8e33b",
   "metadata": {
    "scrolled": true
   },
   "outputs": [
    {
     "name": "stdout",
     "output_type": "stream",
     "text": [
      "<class 'pandas.core.frame.DataFrame'>\n",
      "RangeIndex: 20167 entries, 0 to 20166\n",
      "Data columns (total 10 columns):\n",
      " #   Column         Non-Null Count  Dtype  \n",
      "---  ------         --------------  -----  \n",
      " 0   cust_id        20167 non-null  int64  \n",
      " 1   tran_id        20167 non-null  int64  \n",
      " 2   tran_amt       20167 non-null  float64\n",
      " 3   principal_amt  20167 non-null  float64\n",
      " 4   interest_amt   20167 non-null  float64\n",
      " 5   new_balance    20167 non-null  float64\n",
      " 6   tran_date      20167 non-null  object \n",
      " 7   tran_time      20167 non-null  object \n",
      " 8   channel        20167 non-null  object \n",
      " 9   tran_code      20167 non-null  object \n",
      "dtypes: float64(4), int64(2), object(4)\n",
      "memory usage: 1.5+ MB\n"
     ]
    }
   ],
   "source": [
    "credit_tran.info()"
   ]
  },
  {
   "cell_type": "code",
   "execution_count": 22,
   "id": "5bcd3ef1",
   "metadata": {
    "scrolled": true
   },
   "outputs": [
    {
     "data": {
      "text/html": [
       "<div>\n",
       "<style scoped>\n",
       "    .dataframe tbody tr th:only-of-type {\n",
       "        vertical-align: middle;\n",
       "    }\n",
       "\n",
       "    .dataframe tbody tr th {\n",
       "        vertical-align: top;\n",
       "    }\n",
       "\n",
       "    .dataframe thead th {\n",
       "        text-align: right;\n",
       "    }\n",
       "</style>\n",
       "<table border=\"1\" class=\"dataframe\">\n",
       "  <thead>\n",
       "    <tr style=\"text-align: right;\">\n",
       "      <th></th>\n",
       "      <th>cust_id</th>\n",
       "      <th>tran_id</th>\n",
       "      <th>tran_amt</th>\n",
       "      <th>principal_amt</th>\n",
       "      <th>interest_amt</th>\n",
       "      <th>new_balance</th>\n",
       "    </tr>\n",
       "  </thead>\n",
       "  <tbody>\n",
       "    <tr>\n",
       "      <th>count</th>\n",
       "      <td>2.016700e+04</td>\n",
       "      <td>20167.000000</td>\n",
       "      <td>20167.000000</td>\n",
       "      <td>20167.000000</td>\n",
       "      <td>20167.000000</td>\n",
       "      <td>20167.000000</td>\n",
       "    </tr>\n",
       "    <tr>\n",
       "      <th>mean</th>\n",
       "      <td>1.362987e+06</td>\n",
       "      <td>28.543065</td>\n",
       "      <td>0.773537</td>\n",
       "      <td>-1.429786</td>\n",
       "      <td>2.208701</td>\n",
       "      <td>-1130.349441</td>\n",
       "    </tr>\n",
       "    <tr>\n",
       "      <th>std</th>\n",
       "      <td>2.934641e+02</td>\n",
       "      <td>21.946014</td>\n",
       "      <td>455.914969</td>\n",
       "      <td>451.535918</td>\n",
       "      <td>8.135091</td>\n",
       "      <td>1377.689559</td>\n",
       "    </tr>\n",
       "    <tr>\n",
       "      <th>min</th>\n",
       "      <td>1.362480e+06</td>\n",
       "      <td>1.000000</td>\n",
       "      <td>-1565.500000</td>\n",
       "      <td>-1565.500000</td>\n",
       "      <td>0.000000</td>\n",
       "      <td>-17300.000000</td>\n",
       "    </tr>\n",
       "    <tr>\n",
       "      <th>25%</th>\n",
       "      <td>1.362730e+06</td>\n",
       "      <td>12.000000</td>\n",
       "      <td>-166.790000</td>\n",
       "      <td>-166.790000</td>\n",
       "      <td>0.000000</td>\n",
       "      <td>-1411.110000</td>\n",
       "    </tr>\n",
       "    <tr>\n",
       "      <th>50%</th>\n",
       "      <td>1.362980e+06</td>\n",
       "      <td>24.000000</td>\n",
       "      <td>-67.510000</td>\n",
       "      <td>-67.510000</td>\n",
       "      <td>0.000000</td>\n",
       "      <td>-766.210000</td>\n",
       "    </tr>\n",
       "    <tr>\n",
       "      <th>75%</th>\n",
       "      <td>1.363249e+06</td>\n",
       "      <td>40.000000</td>\n",
       "      <td>0.000000</td>\n",
       "      <td>0.000000</td>\n",
       "      <td>0.000000</td>\n",
       "      <td>-334.290000</td>\n",
       "    </tr>\n",
       "    <tr>\n",
       "      <th>max</th>\n",
       "      <td>1.363492e+06</td>\n",
       "      <td>155.000000</td>\n",
       "      <td>17464.520000</td>\n",
       "      <td>17300.000000</td>\n",
       "      <td>164.520000</td>\n",
       "      <td>0.000000</td>\n",
       "    </tr>\n",
       "  </tbody>\n",
       "</table>\n",
       "</div>"
      ],
      "text/plain": [
       "            cust_id       tran_id      tran_amt  principal_amt  interest_amt  \\\n",
       "count  2.016700e+04  20167.000000  20167.000000   20167.000000  20167.000000   \n",
       "mean   1.362987e+06     28.543065      0.773537      -1.429786      2.208701   \n",
       "std    2.934641e+02     21.946014    455.914969     451.535918      8.135091   \n",
       "min    1.362480e+06      1.000000  -1565.500000   -1565.500000      0.000000   \n",
       "25%    1.362730e+06     12.000000   -166.790000    -166.790000      0.000000   \n",
       "50%    1.362980e+06     24.000000    -67.510000     -67.510000      0.000000   \n",
       "75%    1.363249e+06     40.000000      0.000000       0.000000      0.000000   \n",
       "max    1.363492e+06    155.000000  17464.520000   17300.000000    164.520000   \n",
       "\n",
       "        new_balance  \n",
       "count  20167.000000  \n",
       "mean   -1130.349441  \n",
       "std     1377.689559  \n",
       "min   -17300.000000  \n",
       "25%    -1411.110000  \n",
       "50%     -766.210000  \n",
       "75%     -334.290000  \n",
       "max        0.000000  "
      ]
     },
     "execution_count": 22,
     "metadata": {},
     "output_type": "execute_result"
    }
   ],
   "source": [
    "credit_tran.describe()"
   ]
  },
  {
   "cell_type": "code",
   "execution_count": 23,
   "id": "5bac8c55",
   "metadata": {
    "scrolled": false
   },
   "outputs": [
    {
     "data": {
      "text/plain": [
       "100      2000.40\n",
       "121      1428.75\n",
       "212     -1565.50\n",
       "240      5384.21\n",
       "288      1708.41\n",
       "          ...   \n",
       "19846    1534.27\n",
       "20128    1653.86\n",
       "20137    2071.77\n",
       "20145    1784.96\n",
       "20149    2573.78\n",
       "Name: tran_amt, Length: 313, dtype: float64"
      ]
     },
     "execution_count": 23,
     "metadata": {},
     "output_type": "execute_result"
    }
   ],
   "source": [
    "from scipy import stats\n",
    "\n",
    "#Finding Z Score on Column\n",
    "stats.zscore(credit_tran['tran_amt'])\n",
    "\n",
    "#view the outliers\n",
    "credit_tran['tran_amt'][(np.abs(stats.zscore(credit_tran['tran_amt'])) > 3)]"
   ]
  },
  {
   "cell_type": "markdown",
   "id": "32b60509",
   "metadata": {},
   "source": [
    "## Deleting outliers"
   ]
  },
  {
   "cell_type": "code",
   "execution_count": null,
   "id": "21631213",
   "metadata": {},
   "outputs": [],
   "source": [
    "credit_tran_clean=credit_tran[(np.abs(stats.zscore(credit_tran['tran_amt'])) <= 3)]\n",
    "\n",
    "credit_tran_clean.head()"
   ]
  },
  {
   "cell_type": "code",
   "execution_count": null,
   "id": "a3e66718",
   "metadata": {
    "scrolled": true
   },
   "outputs": [],
   "source": [
    "credit_tran_clean=credit_tran_clean[['cust_id','tran_amt']]\n",
    "credit_tran_clean.describe()"
   ]
  },
  {
   "cell_type": "code",
   "execution_count": null,
   "id": "d1778d29",
   "metadata": {},
   "outputs": [],
   "source": [
    "credit_tran_clean['tran_amt']=credit_tran_clean['tran_amt'].abs()"
   ]
  },
  {
   "cell_type": "code",
   "execution_count": null,
   "id": "fe28086e",
   "metadata": {},
   "outputs": [],
   "source": [
    "credit_tran_clean_df1 = credit_tran_clean.groupby(['cust_id']).count()\n",
    "credit_tran_clean_df1= credit_tran_clean_df1.rename(columns={'tran_amt': 'credit_tran_count'})\n",
    "credit_tran_clean_df1.head(2)"
   ]
  },
  {
   "cell_type": "code",
   "execution_count": null,
   "id": "3bc8b333",
   "metadata": {
    "scrolled": true
   },
   "outputs": [],
   "source": [
    "credit_tran_clean_df2 = credit_tran_clean.groupby(['cust_id']).mean()\n",
    "credit_tran_clean_df2= credit_tran_clean_df2.rename(columns={'tran_amt': 'credit_tran_avg'})\n",
    "credit_tran_clean_df2.head(2)"
   ]
  },
  {
   "cell_type": "code",
   "execution_count": null,
   "id": "3264b31a",
   "metadata": {},
   "outputs": [],
   "source": [
    "result_checking_tran_clean=pd.concat([credit_tran_clean_df1,credit_tran_clean_df2],axis=1, join=\"inner\").reset_index()\n",
    "credit_result=result_checking_tran_clean"
   ]
  },
  {
   "cell_type": "code",
   "execution_count": null,
   "id": "49bb0928",
   "metadata": {},
   "outputs": [],
   "source": [
    "# exporting the cleaned data as a CSV file \n",
    "credit_result.to_csv('data/credit_result.csv',index=False)"
   ]
  },
  {
   "cell_type": "markdown",
   "id": "46bf6a52",
   "metadata": {},
   "source": [
    "## Cleaning savings_tran Table"
   ]
  },
  {
   "cell_type": "code",
   "execution_count": null,
   "id": "7720e15e",
   "metadata": {
    "scrolled": true
   },
   "outputs": [],
   "source": [
    "savings_tran.info()"
   ]
  },
  {
   "cell_type": "code",
   "execution_count": null,
   "id": "9492dd8b",
   "metadata": {
    "scrolled": true
   },
   "outputs": [],
   "source": [
    "savings_tran.describe()"
   ]
  },
  {
   "cell_type": "code",
   "execution_count": null,
   "id": "c2036dca",
   "metadata": {
    "scrolled": false
   },
   "outputs": [],
   "source": [
    "from scipy import stats\n",
    "\n",
    "#Finding Z Score on Column\n",
    "stats.zscore(savings_tran['tran_amt'])\n",
    "\n",
    "#view the outliers\n",
    "savings_tran['tran_amt'][(np.abs(stats.zscore(savings_tran['tran_amt'])) > 3)]"
   ]
  },
  {
   "cell_type": "markdown",
   "id": "e2cc1517",
   "metadata": {},
   "source": [
    "## Deleting outliers"
   ]
  },
  {
   "cell_type": "code",
   "execution_count": null,
   "id": "eddaef1c",
   "metadata": {
    "scrolled": true
   },
   "outputs": [],
   "source": [
    "savings_tran_clean=savings_tran[(np.abs(stats.zscore(savings_tran['tran_amt'])) <= 3)]\n",
    "\n",
    "savings_tran_clean.head()"
   ]
  },
  {
   "cell_type": "code",
   "execution_count": null,
   "id": "99404c02",
   "metadata": {
    "scrolled": true
   },
   "outputs": [],
   "source": [
    "savings_tran_clean=savings_tran_clean[['cust_id','tran_amt']]\n",
    "#result_savings_tran_clean.describe()"
   ]
  },
  {
   "cell_type": "code",
   "execution_count": null,
   "id": "6c069b11",
   "metadata": {},
   "outputs": [],
   "source": [
    "# Create a histogram of the tran_amt column\n",
    "plt.hist(result_savings_tran_clean['tran_amt'])\n",
    "plt.xlabel('tran_amt')\n",
    "plt.ylabel('Frequency')\n",
    "plt.show()"
   ]
  },
  {
   "cell_type": "code",
   "execution_count": null,
   "id": "4c27a905",
   "metadata": {
    "scrolled": true
   },
   "outputs": [],
   "source": [
    "savings_tran_clean['tran_amt']=savings_tran_clean['tran_amt'].abs()"
   ]
  },
  {
   "cell_type": "code",
   "execution_count": null,
   "id": "f79e93ae",
   "metadata": {},
   "outputs": [],
   "source": [
    "savings_tran_clean_df1 = savings_tran_clean.groupby(['cust_id']).count()\n",
    "savings_tran_clean_df1= savings_tran_clean_df1.rename(columns={'tran_amt': 'savings_tran_count'})\n",
    "savings_tran_clean_df1.head(2)"
   ]
  },
  {
   "cell_type": "code",
   "execution_count": null,
   "id": "b0b4cf82",
   "metadata": {
    "scrolled": true
   },
   "outputs": [],
   "source": [
    "savings_tran_clean_df2 = savings_tran_clean.groupby(['cust_id']).mean()\n",
    "savings_tran_clean_df2= savings_tran_clean_df2.rename(columns={'tran_amt': 'savings_tran_avg'})\n",
    "savings_tran_clean_df2.head(2)"
   ]
  },
  {
   "cell_type": "code",
   "execution_count": null,
   "id": "0c7a0a97",
   "metadata": {},
   "outputs": [],
   "source": [
    "result_checking_tran_clean=pd.concat([savings_tran_clean_df1,savings_tran_clean_df2],axis=1, join=\"inner\").reset_index()\n",
    "savings_result=result_checking_tran_clean"
   ]
  },
  {
   "cell_type": "code",
   "execution_count": null,
   "id": "308844f2",
   "metadata": {},
   "outputs": [],
   "source": [
    "# exporting the cleaned data as a CSV file \n",
    "savings_result.to_csv('data/savings_result.csv',index=False)"
   ]
  }
 ],
 "metadata": {
  "kernelspec": {
   "display_name": "Python 3 (ipykernel)",
   "language": "python",
   "name": "python3"
  },
  "language_info": {
   "codemirror_mode": {
    "name": "ipython",
    "version": 3
   },
   "file_extension": ".py",
   "mimetype": "text/x-python",
   "name": "python",
   "nbconvert_exporter": "python",
   "pygments_lexer": "ipython3",
   "version": "3.9.13"
  }
 },
 "nbformat": 4,
 "nbformat_minor": 5
}
