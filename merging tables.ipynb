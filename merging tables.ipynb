{
 "cells": [
  {
   "cell_type": "code",
   "execution_count": 50,
   "id": "c14b1cc8",
   "metadata": {},
   "outputs": [],
   "source": [
    "import pandas as pd\n",
    "import numpy as np"
   ]
  },
  {
   "cell_type": "code",
   "execution_count": 52,
   "id": "5f8d7413",
   "metadata": {},
   "outputs": [
    {
     "name": "stdout",
     "output_type": "stream",
     "text": [
      "<class 'pandas.core.frame.DataFrame'>\n",
      "RangeIndex: 1393 entries, 0 to 1392\n",
      "Data columns (total 3 columns):\n",
      " #   Column        Non-Null Count  Dtype  \n",
      "---  ------        --------------  -----  \n",
      " 0   acct_nbr      1393 non-null   int64  \n",
      " 1   tran_amt      1393 non-null   int64  \n",
      " 2   avg_tran_amt  1393 non-null   float64\n",
      "dtypes: float64(1), int64(2)\n",
      "memory usage: 32.8 KB\n"
     ]
    }
   ],
   "source": [
    "transactions_result = pd.read_csv('data/transactions_result.csv')\n",
    "transactions_result.info()"
   ]
  },
  {
   "cell_type": "code",
   "execution_count": 56,
   "id": "cdaee4d7",
   "metadata": {
    "scrolled": false
   },
   "outputs": [
    {
     "name": "stdout",
     "output_type": "stream",
     "text": [
      "<class 'pandas.core.frame.DataFrame'>\n",
      "RangeIndex: 520 entries, 0 to 519\n",
      "Data columns (total 3 columns):\n",
      " #   Column               Non-Null Count  Dtype  \n",
      "---  ------               --------------  -----  \n",
      " 0   cust_id              520 non-null    int32  \n",
      " 1   checking_tran_count  520 non-null    int64  \n",
      " 2   checking_tran_avg    520 non-null    float64\n",
      "dtypes: float64(1), int32(1), int64(1)\n",
      "memory usage: 10.3 KB\n"
     ]
    }
   ],
   "source": [
    "# Read the checking_result data\n",
    "checking_tran = pd.read_csv('data/checking_result.csv')\n",
    "checking_tran['cust_id']=checking_tran['cust_id'].astype(int)\n",
    "checking_tran.info()"
   ]
  },
  {
   "cell_type": "code",
   "execution_count": 57,
   "id": "5d83ff0d",
   "metadata": {
    "scrolled": true
   },
   "outputs": [
    {
     "name": "stdout",
     "output_type": "stream",
     "text": [
      "<class 'pandas.core.frame.DataFrame'>\n",
      "RangeIndex: 452 entries, 0 to 451\n",
      "Data columns (total 3 columns):\n",
      " #   Column             Non-Null Count  Dtype  \n",
      "---  ------             --------------  -----  \n",
      " 0   cust_id            452 non-null    int32  \n",
      " 1   credit_tran_count  452 non-null    int64  \n",
      " 2   credit_tran_avg    452 non-null    float64\n",
      "dtypes: float64(1), int32(1), int64(1)\n",
      "memory usage: 9.0 KB\n"
     ]
    }
   ],
   "source": [
    "credit_tran = pd.read_csv('data/credit_result.csv')\n",
    "credit_tran['cust_id']=credit_tran['cust_id'].astype(int)\n",
    "credit_tran.info()"
   ]
  },
  {
   "cell_type": "code",
   "execution_count": 62,
   "id": "4350fc4f",
   "metadata": {},
   "outputs": [
    {
     "data": {
      "text/html": [
       "<div>\n",
       "<style scoped>\n",
       "    .dataframe tbody tr th:only-of-type {\n",
       "        vertical-align: middle;\n",
       "    }\n",
       "\n",
       "    .dataframe tbody tr th {\n",
       "        vertical-align: top;\n",
       "    }\n",
       "\n",
       "    .dataframe thead th {\n",
       "        text-align: right;\n",
       "    }\n",
       "</style>\n",
       "<table border=\"1\" class=\"dataframe\">\n",
       "  <thead>\n",
       "    <tr style=\"text-align: right;\">\n",
       "      <th></th>\n",
       "      <th>cust_id</th>\n",
       "      <th>checking_tran_count</th>\n",
       "      <th>checking_tran_avg</th>\n",
       "      <th>cust_id</th>\n",
       "      <th>credit_tran_count</th>\n",
       "      <th>credit_tran_avg</th>\n",
       "    </tr>\n",
       "  </thead>\n",
       "  <tbody>\n",
       "    <tr>\n",
       "      <th>0</th>\n",
       "      <td>1362480</td>\n",
       "      <td>93</td>\n",
       "      <td>76.888710</td>\n",
       "      <td>1362480.0</td>\n",
       "      <td>31.0</td>\n",
       "      <td>191.106129</td>\n",
       "    </tr>\n",
       "    <tr>\n",
       "      <th>1</th>\n",
       "      <td>1362484</td>\n",
       "      <td>98</td>\n",
       "      <td>71.330918</td>\n",
       "      <td>1362484.0</td>\n",
       "      <td>55.0</td>\n",
       "      <td>182.569636</td>\n",
       "    </tr>\n",
       "    <tr>\n",
       "      <th>2</th>\n",
       "      <td>1362485</td>\n",
       "      <td>96</td>\n",
       "      <td>80.350625</td>\n",
       "      <td>1362485.0</td>\n",
       "      <td>72.0</td>\n",
       "      <td>175.404861</td>\n",
       "    </tr>\n",
       "    <tr>\n",
       "      <th>3</th>\n",
       "      <td>1362486</td>\n",
       "      <td>25</td>\n",
       "      <td>43.256000</td>\n",
       "      <td>1362487.0</td>\n",
       "      <td>32.0</td>\n",
       "      <td>149.162813</td>\n",
       "    </tr>\n",
       "    <tr>\n",
       "      <th>4</th>\n",
       "      <td>1362487</td>\n",
       "      <td>52</td>\n",
       "      <td>62.400577</td>\n",
       "      <td>1362489.0</td>\n",
       "      <td>34.0</td>\n",
       "      <td>326.287647</td>\n",
       "    </tr>\n",
       "    <tr>\n",
       "      <th>...</th>\n",
       "      <td>...</td>\n",
       "      <td>...</td>\n",
       "      <td>...</td>\n",
       "      <td>...</td>\n",
       "      <td>...</td>\n",
       "      <td>...</td>\n",
       "    </tr>\n",
       "    <tr>\n",
       "      <th>515</th>\n",
       "      <td>1363483</td>\n",
       "      <td>99</td>\n",
       "      <td>48.792626</td>\n",
       "      <td>NaN</td>\n",
       "      <td>NaN</td>\n",
       "      <td>NaN</td>\n",
       "    </tr>\n",
       "    <tr>\n",
       "      <th>516</th>\n",
       "      <td>1363484</td>\n",
       "      <td>99</td>\n",
       "      <td>77.905354</td>\n",
       "      <td>NaN</td>\n",
       "      <td>NaN</td>\n",
       "      <td>NaN</td>\n",
       "    </tr>\n",
       "    <tr>\n",
       "      <th>517</th>\n",
       "      <td>1363492</td>\n",
       "      <td>87</td>\n",
       "      <td>72.240690</td>\n",
       "      <td>NaN</td>\n",
       "      <td>NaN</td>\n",
       "      <td>NaN</td>\n",
       "    </tr>\n",
       "    <tr>\n",
       "      <th>518</th>\n",
       "      <td>1363493</td>\n",
       "      <td>95</td>\n",
       "      <td>110.515579</td>\n",
       "      <td>NaN</td>\n",
       "      <td>NaN</td>\n",
       "      <td>NaN</td>\n",
       "    </tr>\n",
       "    <tr>\n",
       "      <th>519</th>\n",
       "      <td>1363495</td>\n",
       "      <td>98</td>\n",
       "      <td>79.289490</td>\n",
       "      <td>NaN</td>\n",
       "      <td>NaN</td>\n",
       "      <td>NaN</td>\n",
       "    </tr>\n",
       "  </tbody>\n",
       "</table>\n",
       "<p>520 rows × 6 columns</p>\n",
       "</div>"
      ],
      "text/plain": [
       "     cust_id  checking_tran_count  checking_tran_avg    cust_id  \\\n",
       "0    1362480                   93          76.888710  1362480.0   \n",
       "1    1362484                   98          71.330918  1362484.0   \n",
       "2    1362485                   96          80.350625  1362485.0   \n",
       "3    1362486                   25          43.256000  1362487.0   \n",
       "4    1362487                   52          62.400577  1362489.0   \n",
       "..       ...                  ...                ...        ...   \n",
       "515  1363483                   99          48.792626        NaN   \n",
       "516  1363484                   99          77.905354        NaN   \n",
       "517  1363492                   87          72.240690        NaN   \n",
       "518  1363493                   95         110.515579        NaN   \n",
       "519  1363495                   98          79.289490        NaN   \n",
       "\n",
       "     credit_tran_count  credit_tran_avg  \n",
       "0                 31.0       191.106129  \n",
       "1                 55.0       182.569636  \n",
       "2                 72.0       175.404861  \n",
       "3                 32.0       149.162813  \n",
       "4                 34.0       326.287647  \n",
       "..                 ...              ...  \n",
       "515                NaN              NaN  \n",
       "516                NaN              NaN  \n",
       "517                NaN              NaN  \n",
       "518                NaN              NaN  \n",
       "519                NaN              NaN  \n",
       "\n",
       "[520 rows x 6 columns]"
      ]
     },
     "execution_count": 62,
     "metadata": {},
     "output_type": "execute_result"
    }
   ],
   "source": [
    "join_checking_credit = pd.concat([checking_tran, credit_tran], axis=1, join=\"outer\")\n",
    "join_checking_credit"
   ]
  },
  {
   "cell_type": "code",
   "execution_count": 31,
   "id": "54d2bca0",
   "metadata": {
    "scrolled": true
   },
   "outputs": [
    {
     "data": {
      "text/html": [
       "<div>\n",
       "<style scoped>\n",
       "    .dataframe tbody tr th:only-of-type {\n",
       "        vertical-align: middle;\n",
       "    }\n",
       "\n",
       "    .dataframe tbody tr th {\n",
       "        vertical-align: top;\n",
       "    }\n",
       "\n",
       "    .dataframe thead th {\n",
       "        text-align: right;\n",
       "    }\n",
       "</style>\n",
       "<table border=\"1\" class=\"dataframe\">\n",
       "  <thead>\n",
       "    <tr style=\"text-align: right;\">\n",
       "      <th></th>\n",
       "      <th>cust_id</th>\n",
       "      <th>savings_tran_count</th>\n",
       "      <th>savings_tran_avg</th>\n",
       "    </tr>\n",
       "  </thead>\n",
       "  <tbody>\n",
       "    <tr>\n",
       "      <th>0</th>\n",
       "      <td>1362480</td>\n",
       "      <td>26</td>\n",
       "      <td>128.769231</td>\n",
       "    </tr>\n",
       "    <tr>\n",
       "      <th>1</th>\n",
       "      <td>1362484</td>\n",
       "      <td>31</td>\n",
       "      <td>81.172581</td>\n",
       "    </tr>\n",
       "    <tr>\n",
       "      <th>2</th>\n",
       "      <td>1362486</td>\n",
       "      <td>25</td>\n",
       "      <td>55.033600</td>\n",
       "    </tr>\n",
       "    <tr>\n",
       "      <th>3</th>\n",
       "      <td>1362487</td>\n",
       "      <td>19</td>\n",
       "      <td>46.711579</td>\n",
       "    </tr>\n",
       "    <tr>\n",
       "      <th>4</th>\n",
       "      <td>1362489</td>\n",
       "      <td>22</td>\n",
       "      <td>97.195909</td>\n",
       "    </tr>\n",
       "  </tbody>\n",
       "</table>\n",
       "</div>"
      ],
      "text/plain": [
       "   cust_id  savings_tran_count  savings_tran_avg\n",
       "0  1362480                  26        128.769231\n",
       "1  1362484                  31         81.172581\n",
       "2  1362486                  25         55.033600\n",
       "3  1362487                  19         46.711579\n",
       "4  1362489                  22         97.195909"
      ]
     },
     "execution_count": 31,
     "metadata": {},
     "output_type": "execute_result"
    }
   ],
   "source": [
    "savings_result = pd.read_csv('data/savings_result.csv')\n",
    "savings_result.head()"
   ]
  }
 ],
 "metadata": {
  "kernelspec": {
   "display_name": "Python 3 (ipykernel)",
   "language": "python",
   "name": "python3"
  },
  "language_info": {
   "codemirror_mode": {
    "name": "ipython",
    "version": 3
   },
   "file_extension": ".py",
   "mimetype": "text/x-python",
   "name": "python",
   "nbconvert_exporter": "python",
   "pygments_lexer": "ipython3",
   "version": "3.9.13"
  }
 },
 "nbformat": 4,
 "nbformat_minor": 5
}
